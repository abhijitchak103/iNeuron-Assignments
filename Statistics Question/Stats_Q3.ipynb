{
  "nbformat": 4,
  "nbformat_minor": 0,
  "metadata": {
    "colab": {
      "provenance": [],
      "authorship_tag": "ABX9TyOXTsBSs+z7JudO/k5KyBJT"
    },
    "kernelspec": {
      "name": "python3",
      "display_name": "Python 3"
    },
    "language_info": {
      "name": "python"
    }
  },
  "cells": [
    {
      "cell_type": "markdown",
      "source": [
        "# Statistics Question 3"
      ],
      "metadata": {
        "id": "FHC8avTJ7dJx"
      }
    },
    {
      "cell_type": "code",
      "execution_count": 1,
      "metadata": {
        "id": "Bpqsgdfa4r-E"
      },
      "outputs": [],
      "source": [
        "import pandas as pd"
      ]
    },
    {
      "cell_type": "code",
      "source": [
        "df = pd.read_csv(\"data.csv\")"
      ],
      "metadata": {
        "id": "nfCAaD1X4wSD"
      },
      "execution_count": 3,
      "outputs": []
    },
    {
      "cell_type": "code",
      "source": [
        "df.head()"
      ],
      "metadata": {
        "colab": {
          "base_uri": "https://localhost:8080/",
          "height": 206
        },
        "id": "XKcXBopO42sn",
        "outputId": "ca361f12-48a6-42cf-9e94-22676af5550e"
      },
      "execution_count": 4,
      "outputs": [
        {
          "output_type": "execute_result",
          "data": {
            "text/plain": [
              "   Patient ID   Blood Pressure Before (mmHg)   Blood Pressure After (mmHg)\n",
              "0           1                            130                           120\n",
              "1           2                            142                           135\n",
              "2           3                            120                           118\n",
              "3           4                            135                           127\n",
              "4           5                            148                           140"
            ],
            "text/html": [
              "\n",
              "  <div id=\"df-a99f2bc9-fbf8-4c0c-a798-7637851647d3\">\n",
              "    <div class=\"colab-df-container\">\n",
              "      <div>\n",
              "<style scoped>\n",
              "    .dataframe tbody tr th:only-of-type {\n",
              "        vertical-align: middle;\n",
              "    }\n",
              "\n",
              "    .dataframe tbody tr th {\n",
              "        vertical-align: top;\n",
              "    }\n",
              "\n",
              "    .dataframe thead th {\n",
              "        text-align: right;\n",
              "    }\n",
              "</style>\n",
              "<table border=\"1\" class=\"dataframe\">\n",
              "  <thead>\n",
              "    <tr style=\"text-align: right;\">\n",
              "      <th></th>\n",
              "      <th>Patient ID</th>\n",
              "      <th>Blood Pressure Before (mmHg)</th>\n",
              "      <th>Blood Pressure After (mmHg)</th>\n",
              "    </tr>\n",
              "  </thead>\n",
              "  <tbody>\n",
              "    <tr>\n",
              "      <th>0</th>\n",
              "      <td>1</td>\n",
              "      <td>130</td>\n",
              "      <td>120</td>\n",
              "    </tr>\n",
              "    <tr>\n",
              "      <th>1</th>\n",
              "      <td>2</td>\n",
              "      <td>142</td>\n",
              "      <td>135</td>\n",
              "    </tr>\n",
              "    <tr>\n",
              "      <th>2</th>\n",
              "      <td>3</td>\n",
              "      <td>120</td>\n",
              "      <td>118</td>\n",
              "    </tr>\n",
              "    <tr>\n",
              "      <th>3</th>\n",
              "      <td>4</td>\n",
              "      <td>135</td>\n",
              "      <td>127</td>\n",
              "    </tr>\n",
              "    <tr>\n",
              "      <th>4</th>\n",
              "      <td>5</td>\n",
              "      <td>148</td>\n",
              "      <td>140</td>\n",
              "    </tr>\n",
              "  </tbody>\n",
              "</table>\n",
              "</div>\n",
              "      <button class=\"colab-df-convert\" onclick=\"convertToInteractive('df-a99f2bc9-fbf8-4c0c-a798-7637851647d3')\"\n",
              "              title=\"Convert this dataframe to an interactive table.\"\n",
              "              style=\"display:none;\">\n",
              "        \n",
              "  <svg xmlns=\"http://www.w3.org/2000/svg\" height=\"24px\"viewBox=\"0 0 24 24\"\n",
              "       width=\"24px\">\n",
              "    <path d=\"M0 0h24v24H0V0z\" fill=\"none\"/>\n",
              "    <path d=\"M18.56 5.44l.94 2.06.94-2.06 2.06-.94-2.06-.94-.94-2.06-.94 2.06-2.06.94zm-11 1L8.5 8.5l.94-2.06 2.06-.94-2.06-.94L8.5 2.5l-.94 2.06-2.06.94zm10 10l.94 2.06.94-2.06 2.06-.94-2.06-.94-.94-2.06-.94 2.06-2.06.94z\"/><path d=\"M17.41 7.96l-1.37-1.37c-.4-.4-.92-.59-1.43-.59-.52 0-1.04.2-1.43.59L10.3 9.45l-7.72 7.72c-.78.78-.78 2.05 0 2.83L4 21.41c.39.39.9.59 1.41.59.51 0 1.02-.2 1.41-.59l7.78-7.78 2.81-2.81c.8-.78.8-2.07 0-2.86zM5.41 20L4 18.59l7.72-7.72 1.47 1.35L5.41 20z\"/>\n",
              "  </svg>\n",
              "      </button>\n",
              "      \n",
              "  <style>\n",
              "    .colab-df-container {\n",
              "      display:flex;\n",
              "      flex-wrap:wrap;\n",
              "      gap: 12px;\n",
              "    }\n",
              "\n",
              "    .colab-df-convert {\n",
              "      background-color: #E8F0FE;\n",
              "      border: none;\n",
              "      border-radius: 50%;\n",
              "      cursor: pointer;\n",
              "      display: none;\n",
              "      fill: #1967D2;\n",
              "      height: 32px;\n",
              "      padding: 0 0 0 0;\n",
              "      width: 32px;\n",
              "    }\n",
              "\n",
              "    .colab-df-convert:hover {\n",
              "      background-color: #E2EBFA;\n",
              "      box-shadow: 0px 1px 2px rgba(60, 64, 67, 0.3), 0px 1px 3px 1px rgba(60, 64, 67, 0.15);\n",
              "      fill: #174EA6;\n",
              "    }\n",
              "\n",
              "    [theme=dark] .colab-df-convert {\n",
              "      background-color: #3B4455;\n",
              "      fill: #D2E3FC;\n",
              "    }\n",
              "\n",
              "    [theme=dark] .colab-df-convert:hover {\n",
              "      background-color: #434B5C;\n",
              "      box-shadow: 0px 1px 3px 1px rgba(0, 0, 0, 0.15);\n",
              "      filter: drop-shadow(0px 1px 2px rgba(0, 0, 0, 0.3));\n",
              "      fill: #FFFFFF;\n",
              "    }\n",
              "  </style>\n",
              "\n",
              "      <script>\n",
              "        const buttonEl =\n",
              "          document.querySelector('#df-a99f2bc9-fbf8-4c0c-a798-7637851647d3 button.colab-df-convert');\n",
              "        buttonEl.style.display =\n",
              "          google.colab.kernel.accessAllowed ? 'block' : 'none';\n",
              "\n",
              "        async function convertToInteractive(key) {\n",
              "          const element = document.querySelector('#df-a99f2bc9-fbf8-4c0c-a798-7637851647d3');\n",
              "          const dataTable =\n",
              "            await google.colab.kernel.invokeFunction('convertToInteractive',\n",
              "                                                     [key], {});\n",
              "          if (!dataTable) return;\n",
              "\n",
              "          const docLinkHtml = 'Like what you see? Visit the ' +\n",
              "            '<a target=\"_blank\" href=https://colab.research.google.com/notebooks/data_table.ipynb>data table notebook</a>'\n",
              "            + ' to learn more about interactive tables.';\n",
              "          element.innerHTML = '';\n",
              "          dataTable['output_type'] = 'display_data';\n",
              "          await google.colab.output.renderOutput(dataTable, element);\n",
              "          const docLink = document.createElement('div');\n",
              "          docLink.innerHTML = docLinkHtml;\n",
              "          element.appendChild(docLink);\n",
              "        }\n",
              "      </script>\n",
              "    </div>\n",
              "  </div>\n",
              "  "
            ]
          },
          "metadata": {},
          "execution_count": 4
        }
      ]
    },
    {
      "cell_type": "code",
      "source": [
        "df.shape"
      ],
      "metadata": {
        "colab": {
          "base_uri": "https://localhost:8080/"
        },
        "id": "0T40bmui5JTN",
        "outputId": "097a9fda-991c-4552-d1e1-280882ce6d58"
      },
      "execution_count": 5,
      "outputs": [
        {
          "output_type": "execute_result",
          "data": {
            "text/plain": [
              "(100, 3)"
            ]
          },
          "metadata": {},
          "execution_count": 5
        }
      ]
    },
    {
      "cell_type": "markdown",
      "source": [
        "### The dispersion of 'Blood Pressure Before (mmHg)' and 'Blood Pressure After (mmHg)'"
      ],
      "metadata": {
        "id": "_aH-FuQi5cmJ"
      }
    },
    {
      "cell_type": "code",
      "source": [
        "import numpy as np"
      ],
      "metadata": {
        "id": "_D9pL4oa5KSB"
      },
      "execution_count": 6,
      "outputs": []
    },
    {
      "cell_type": "code",
      "source": [
        "df.columns"
      ],
      "metadata": {
        "colab": {
          "base_uri": "https://localhost:8080/"
        },
        "id": "plU7WN9v51MK",
        "outputId": "46053e75-cd92-4686-9c78-75ba262ff6b6"
      },
      "execution_count": 8,
      "outputs": [
        {
          "output_type": "execute_result",
          "data": {
            "text/plain": [
              "Index(['Patient ID', ' Blood Pressure Before (mmHg)',\n",
              "       ' Blood Pressure After (mmHg)'],\n",
              "      dtype='object')"
            ]
          },
          "metadata": {},
          "execution_count": 8
        }
      ]
    },
    {
      "cell_type": "code",
      "source": [
        "np.std(df[\" Blood Pressure Before (mmHg)\"])"
      ],
      "metadata": {
        "colab": {
          "base_uri": "https://localhost:8080/"
        },
        "id": "vxR2nS4D5o47",
        "outputId": "39a79e9a-6498-4e28-b4d7-5da4ff3e0748"
      },
      "execution_count": 9,
      "outputs": [
        {
          "output_type": "execute_result",
          "data": {
            "text/plain": [
              "6.56520372875054"
            ]
          },
          "metadata": {},
          "execution_count": 9
        }
      ]
    },
    {
      "cell_type": "code",
      "source": [
        "np.var(df[\" Blood Pressure Before (mmHg)\"])"
      ],
      "metadata": {
        "colab": {
          "base_uri": "https://localhost:8080/"
        },
        "id": "fGlomMnS6uDi",
        "outputId": "d8c93997-2e16-455b-e511-0958e82a8e86"
      },
      "execution_count": 15,
      "outputs": [
        {
          "output_type": "execute_result",
          "data": {
            "text/plain": [
              "43.10189999999999"
            ]
          },
          "metadata": {},
          "execution_count": 15
        }
      ]
    },
    {
      "cell_type": "code",
      "source": [
        "np.std(df[\" Blood Pressure After (mmHg)\"])"
      ],
      "metadata": {
        "colab": {
          "base_uri": "https://localhost:8080/"
        },
        "id": "UE0JXSZq5_oR",
        "outputId": "980adb07-ea50-4cff-d8da-cc3b946eb5a1"
      },
      "execution_count": 16,
      "outputs": [
        {
          "output_type": "execute_result",
          "data": {
            "text/plain": [
              "6.853495458523336"
            ]
          },
          "metadata": {},
          "execution_count": 16
        }
      ]
    },
    {
      "cell_type": "code",
      "source": [
        "np.var(df[\" Blood Pressure After (mmHg)\"])"
      ],
      "metadata": {
        "colab": {
          "base_uri": "https://localhost:8080/"
        },
        "id": "vhJAUny86izz",
        "outputId": "aff71bb3-2463-44b7-9727-73dde9b9bfd9"
      },
      "execution_count": 17,
      "outputs": [
        {
          "output_type": "execute_result",
          "data": {
            "text/plain": [
              "46.97039999999999"
            ]
          },
          "metadata": {},
          "execution_count": 17
        }
      ]
    },
    {
      "cell_type": "markdown",
      "source": [
        "It is noticed that 'Blood Pressure Before (mmHg)' has a lower spread in data points than 'Blood Pressure After (mmHg)'"
      ],
      "metadata": {
        "id": "OFqm7w-K7Euf"
      }
    },
    {
      "cell_type": "markdown",
      "source": [
        "### Calculate mean and 5% confidence interval and plot it in a graph."
      ],
      "metadata": {
        "id": "RaC0C9r27W-1"
      }
    },
    {
      "cell_type": "code",
      "source": [
        "print(f\"Mean of the Blood Pressure Before is: {np.mean(df[' Blood Pressure Before (mmHg)'])}\")"
      ],
      "metadata": {
        "colab": {
          "base_uri": "https://localhost:8080/"
        },
        "id": "6DaknemF7DBd",
        "outputId": "815cd201-4f18-4181-8e61-4a229f383d14"
      },
      "execution_count": 18,
      "outputs": [
        {
          "output_type": "stream",
          "name": "stdout",
          "text": [
            "Mean of the Blood Pressure Before is: 133.91\n"
          ]
        }
      ]
    },
    {
      "cell_type": "code",
      "source": [
        "print(f\"Mean of the Blood Pressure After is: {np.mean(df[' Blood Pressure After (mmHg)'])}\")"
      ],
      "metadata": {
        "colab": {
          "base_uri": "https://localhost:8080/"
        },
        "id": "L6Z7q8Ex7zqS",
        "outputId": "fe6efbe7-fd02-4729-aeee-57416710a15d"
      },
      "execution_count": 19,
      "outputs": [
        {
          "output_type": "stream",
          "name": "stdout",
          "text": [
            "Mean of the Blood Pressure After is: 128.36\n"
          ]
        }
      ]
    },
    {
      "cell_type": "code",
      "source": [
        "from scipy.stats import t"
      ],
      "metadata": {
        "id": "O-ooQxdp74hs"
      },
      "execution_count": 20,
      "outputs": []
    },
    {
      "cell_type": "code",
      "source": [
        "def confidence_intervals(x: list[int], confidence: float = 0.05) -> list[float]:\n",
        "    # Mean of x\n",
        "    m_x = np.mean(x)\n",
        "    # Standard Deviation of x\n",
        "    std_x = np.std(x)\n",
        "    # Degrees of freedom\n",
        "    dof = len(x) - 1\n",
        "    \n",
        "    # Calculation of lower and upper bounds\n",
        "    t_crit = np.abs(t.ppf((1-confidence)/2, dof))\n",
        "    lower = m_x - std_x*t_crit/np.sqrt(len(x))\n",
        "    upper = m_x + std_x*t_crit/np.sqrt(len(x))\n",
        "\n",
        "    return [lower, upper]"
      ],
      "metadata": {
        "id": "VL_MVOZQ_Zwy"
      },
      "execution_count": 24,
      "outputs": []
    },
    {
      "cell_type": "markdown",
      "source": [
        "Confidence interval for ' Blood Pressure Before (mmHg)'"
      ],
      "metadata": {
        "id": "myfpgqK4-uk6"
      }
    },
    {
      "cell_type": "code",
      "source": [
        "x = df[\" Blood Pressure Before (mmHg)\"]\n",
        "\n",
        "lower_x, upper_x = confidence_intervals(x, 0.05)\n",
        "\n",
        "print(lower_x, upper_x)"
      ],
      "metadata": {
        "colab": {
          "base_uri": "https://localhost:8080/"
        },
        "id": "umhPbGFe9zwX",
        "outputId": "4708ba23-99fe-4f01-dda9-666759eab144"
      },
      "execution_count": 25,
      "outputs": [
        {
          "output_type": "stream",
          "name": "stdout",
          "text": [
            "133.86872722131565 133.95127277868434\n"
          ]
        }
      ]
    },
    {
      "cell_type": "code",
      "source": [
        "y = df[\" Blood Pressure After (mmHg)\"]\n",
        "\n",
        "lower_y, upper_y = confidence_intervals(y, 0.05)\n",
        "print(lower_y, upper_y)"
      ],
      "metadata": {
        "colab": {
          "base_uri": "https://localhost:8080/"
        },
        "id": "rlO7luQi_Gse",
        "outputId": "c5c66592-5656-440f-e011-d5326781e18a"
      },
      "execution_count": 26,
      "outputs": [
        {
          "output_type": "stream",
          "name": "stdout",
          "text": [
            "128.31691484789192 128.4030851521081\n"
          ]
        }
      ]
    },
    {
      "cell_type": "code",
      "source": [
        "import matplotlib.pyplot as plt\n",
        "%matplotlib inline"
      ],
      "metadata": {
        "id": "nPK3ZC5kCDzU"
      },
      "execution_count": 32,
      "outputs": []
    },
    {
      "cell_type": "code",
      "source": [
        "figure, ax = plt.subplots(figsize = (10,5))\n",
        "ax = df[\" Blood Pressure Before (mmHg)\"].plot.kde()\n",
        "ax.axvline(x=lower_x, color = \"green\", linestyle=\"-.\")\n",
        "ax.axvline(x=upper_x, color = \"green\", linestyle=\"-.\")\n",
        "ax.axvline(x=np.mean(df[\" Blood Pressure Before (mmHg)\"]), color = 'red', linestyle=\"--\")\n",
        "plt.title(\"Distribution of Blood Pressure Before (mmHg)\")\n",
        "ax.text(x=lower_x-1, y=0, s=f'Lower CI Bound {round(lower_x, 2)}', color='green', rotation=90)\n",
        "ax.text(x=upper_x+0.5, y=0, s=f'Upper CI Bound {round(upper_x, 2)}', color='green', rotation=90)\n",
        "plt.show()"
      ],
      "metadata": {
        "colab": {
          "base_uri": "https://localhost:8080/",
          "height": 468
        },
        "id": "XBezVof9Ah6t",
        "outputId": "011917cb-d81c-4a68-d19d-7e18f5337c26"
      },
      "execution_count": 47,
      "outputs": [
        {
          "output_type": "display_data",
          "data": {
            "text/plain": [
              "<Figure size 1000x500 with 1 Axes>"
            ],
            "image/png": "[encoded data removed]"
          },
          "metadata": {}
        }
      ]
    },
    {
      "cell_type": "code",
      "source": [
        "figure, ax = plt.subplots(figsize = (10,5))\n",
        "ax = df[\" Blood Pressure After (mmHg)\"].plot.kde()\n",
        "ax.axvline(x=lower_y, color = \"green\", linestyle=\"-.\")\n",
        "ax.axvline(x=upper_y, color = \"green\", linestyle=\"-.\")\n",
        "ax.axvline(x=np.mean(df[\" Blood Pressure After (mmHg)\"]), color = 'red', linestyle=\"--\")\n",
        "plt.title(\"Distribution of Blood Pressure After (mmHg)\")\n",
        "ax.text(x=lower_y-1, y=0, s=f'Lower CI Bound {round(lower_y, 2)}', color='green', rotation=90)\n",
        "ax.text(x=upper_y+0.5, y=0, s=f'Upper CI Bound {round(upper_y, 2)}', color='green', rotation=90)\n",
        "plt.show()"
      ],
      "metadata": {
        "colab": {
          "base_uri": "https://localhost:8080/",
          "height": 468
        },
        "id": "IgywExLOBqhg",
        "outputId": "728df2e8-fb06-4d4d-8e41-bcd7300ef667"
      },
      "execution_count": 46,
      "outputs": [
        {
          "output_type": "display_data",
          "data": {
            "text/plain": [
              "<Figure size 1000x500 with 1 Axes>"
            ],
            "image/png": "[encoded data removed]"
          },
          "metadata": {}
        }
      ]
    },
    {
      "cell_type": "markdown",
      "source": [
        "### Calculate the Mean absolute deviation and Standard deviation and interpret the results."
      ],
      "metadata": {
        "id": "Kd-68EjZG35P"
      }
    },
    {
      "cell_type": "code",
      "source": [
        "# Standard Deviation\n",
        "print(f'Standard Deviation: {round(np.std(df[\" Blood Pressure After (mmHg)\"]), 2)}')\n",
        "\n",
        "# Mean Absolute Deviation\n",
        "print(f'Mean Absolute Deviation: {(df[\" Blood Pressure After (mmHg)\"].mad())}')"
      ],
      "metadata": {
        "colab": {
          "base_uri": "https://localhost:8080/"
        },
        "id": "KKonQaSOB2lL",
        "outputId": "0dd21103-a159-42bc-e862-3c99796980b4"
      },
      "execution_count": 49,
      "outputs": [
        {
          "output_type": "stream",
          "name": "stdout",
          "text": [
            "Standard Deviation: 6.85\n",
            "Mean Absolute Deviation: 5.9\n"
          ]
        },
        {
          "output_type": "stream",
          "name": "stderr",
          "text": [
            "<ipython-input-49-f9a52d3f4fcf>:5: FutureWarning: The 'mad' method is deprecated and will be removed in a future version. To compute the same result, you may do `(df - df.mean()).abs().mean()`.\n",
            "  print(f'Mean Absolute Deviation: {(df[\" Blood Pressure After (mmHg)\"].mad())}')\n"
          ]
        }
      ]
    },
    {
      "cell_type": "code",
      "source": [
        "# Standard Deviation\n",
        "print(f'Standard Deviation: {round(np.std(df[\" Blood Pressure Before (mmHg)\"]), 2)}')\n",
        "\n",
        "# Mean Absolute Deviation\n",
        "print(f'Mean Absolute Deviation: {(df[\" Blood Pressure Before (mmHg)\"].mad())}')"
      ],
      "metadata": {
        "colab": {
          "base_uri": "https://localhost:8080/"
        },
        "id": "eiCbb62LH8-E",
        "outputId": "9a4bc942-8e41-4179-fa2e-ec1398359329"
      },
      "execution_count": 50,
      "outputs": [
        {
          "output_type": "stream",
          "name": "stdout",
          "text": [
            "Standard Deviation: 6.57\n",
            "Mean Absolute Deviation: 5.7118\n"
          ]
        },
        {
          "output_type": "stream",
          "name": "stderr",
          "text": [
            "<ipython-input-50-0e7d74da3c5f>:5: FutureWarning: The 'mad' method is deprecated and will be removed in a future version. To compute the same result, you may do `(df - df.mean()).abs().mean()`.\n",
            "  print(f'Mean Absolute Deviation: {(df[\" Blood Pressure Before (mmHg)\"].mad())}')\n"
          ]
        }
      ]
    },
    {
      "cell_type": "markdown",
      "source": [
        "As the MAD for 'Blood Before After' is higher than 'Blood Pressure Before'. It indicates, that mean of 'Blood Before After' is less relevant than 'Blood Pressure Before'. This is also indicated by Standard Deviation as Std is higher for the column with higher MAD."
      ],
      "metadata": {
        "id": "bkjl1pDvIuuD"
      }
    },
    {
      "cell_type": "markdown",
      "source": [
        "### Calculate the correlation coefficient and check the significance of it at 1% level of significance."
      ],
      "metadata": {
        "id": "TphbhZbMJO-g"
      }
    },
    {
      "cell_type": "code",
      "source": [
        "from scipy.stats import pearsonr"
      ],
      "metadata": {
        "id": "TlFDeM_vINNS"
      },
      "execution_count": 52,
      "outputs": []
    },
    {
      "cell_type": "code",
      "source": [
        "x = df[\" Blood Pressure Before (mmHg)\"]\n",
        "y = df[\" Blood Pressure After (mmHg)\"]"
      ],
      "metadata": {
        "id": "d5IUaPNhLdst"
      },
      "execution_count": 53,
      "outputs": []
    },
    {
      "cell_type": "code",
      "source": [
        "#extract correlation coefficient (rounded to 4 decimal places)\n",
        "r = round(pearsonr(x, y)[0], 4)\n",
        "\n",
        "print(f\"Correlation Coefficient is: {r}\")\n",
        "\n",
        "#extract p-value (rounded to 4 decimal places) \n",
        "p = round(pearsonr(x, y)[1], 4)\n",
        "\n",
        "print(f\"P-Value: {p}\")"
      ],
      "metadata": {
        "colab": {
          "base_uri": "https://localhost:8080/"
        },
        "id": "pojfcpYYLr0w",
        "outputId": "733b48c2-19a9-421e-cdf1-d855e916e940"
      },
      "execution_count": 55,
      "outputs": [
        {
          "output_type": "stream",
          "name": "stdout",
          "text": [
            "Correlation Coefficient is: 0.9779\n",
            "P-Value: 0.0\n"
          ]
        }
      ]
    },
    {
      "cell_type": "markdown",
      "source": [
        "Since the correlation coefficient is close to 1, this tells us that there is a strong positive association between the two variables.\n",
        "\n",
        "And since the corresponding p-value is less than .05, we conclude that there is a statistically significant association between the two variables."
      ],
      "metadata": {
        "id": "eXVxP4k8MR4N"
      }
    }
  ]
}