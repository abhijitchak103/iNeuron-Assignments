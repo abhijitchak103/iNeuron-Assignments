{
 "cells": [
  {
   "cell_type": "markdown",
   "id": "69077ad2",
   "metadata": {},
   "source": [
    "## Statistics Question 9"
   ]
  },
  {
   "cell_type": "markdown",
   "id": "82a7373d",
   "metadata": {},
   "source": [
    "Given the score of students in multiple exams\n",
    "\n",
    "Name | Exam 1 | Exam 2 | Final Exam\n",
    "-- | -- | -- | -- \n",
    "Karan | 85 | 90 | 92\n",
    "Deepa | 70 | 80 | 85\n",
    "Karthik | 90 | 85 | 88\n",
    "Chandan | 75 | 70 | 75\n",
    "Jeevan | 95 | 92 | 96\n",
    "\n",
    "Test the hypothesis that the mean scores of all the students are the same. If not, name the student with the highest score."
   ]
  },
  {
   "cell_type": "code",
   "execution_count": 1,
   "id": "2e6370bf",
   "metadata": {},
   "outputs": [],
   "source": [
    "import pandas as pd"
   ]
  },
  {
   "cell_type": "code",
   "execution_count": 2,
   "id": "76eac02c",
   "metadata": {},
   "outputs": [],
   "source": [
    "df = pd.DataFrame({\n",
    "    \"Name\": ['Karan', 'Deepa', 'Karthik', 'Chandan', 'Jeevan'],\n",
    "    \"Exam 1\": [85, 70, 90, 75, 95],\n",
    "    \"Exam 2\": [90, 80, 85, 70, 92],\n",
    "    \"Final Exam\": [92, 85, 88, 75, 96]\n",
    "})"
   ]
  },
  {
   "cell_type": "code",
   "execution_count": 3,
   "id": "a27fdd46",
   "metadata": {},
   "outputs": [
    {
     "data": {
      "text/html": [
       "<div>\n",
       "<style scoped>\n",
       "    .dataframe tbody tr th:only-of-type {\n",
       "        vertical-align: middle;\n",
       "    }\n",
       "\n",
       "    .dataframe tbody tr th {\n",
       "        vertical-align: top;\n",
       "    }\n",
       "\n",
       "    .dataframe thead th {\n",
       "        text-align: right;\n",
       "    }\n",
       "</style>\n",
       "<table border=\"1\" class=\"dataframe\">\n",
       "  <thead>\n",
       "    <tr style=\"text-align: right;\">\n",
       "      <th></th>\n",
       "      <th>Name</th>\n",
       "      <th>Exam 1</th>\n",
       "      <th>Exam 2</th>\n",
       "      <th>Final Exam</th>\n",
       "    </tr>\n",
       "  </thead>\n",
       "  <tbody>\n",
       "    <tr>\n",
       "      <th>0</th>\n",
       "      <td>Karan</td>\n",
       "      <td>85</td>\n",
       "      <td>90</td>\n",
       "      <td>92</td>\n",
       "    </tr>\n",
       "    <tr>\n",
       "      <th>1</th>\n",
       "      <td>Deepa</td>\n",
       "      <td>70</td>\n",
       "      <td>80</td>\n",
       "      <td>85</td>\n",
       "    </tr>\n",
       "    <tr>\n",
       "      <th>2</th>\n",
       "      <td>Karthik</td>\n",
       "      <td>90</td>\n",
       "      <td>85</td>\n",
       "      <td>88</td>\n",
       "    </tr>\n",
       "    <tr>\n",
       "      <th>3</th>\n",
       "      <td>Chandan</td>\n",
       "      <td>75</td>\n",
       "      <td>70</td>\n",
       "      <td>75</td>\n",
       "    </tr>\n",
       "    <tr>\n",
       "      <th>4</th>\n",
       "      <td>Jeevan</td>\n",
       "      <td>95</td>\n",
       "      <td>92</td>\n",
       "      <td>96</td>\n",
       "    </tr>\n",
       "  </tbody>\n",
       "</table>\n",
       "</div>"
      ],
      "text/plain": [
       "      Name  Exam 1  Exam 2  Final Exam\n",
       "0    Karan      85      90          92\n",
       "1    Deepa      70      80          85\n",
       "2  Karthik      90      85          88\n",
       "3  Chandan      75      70          75\n",
       "4   Jeevan      95      92          96"
      ]
     },
     "execution_count": 3,
     "metadata": {},
     "output_type": "execute_result"
    }
   ],
   "source": [
    "df"
   ]
  },
  {
   "cell_type": "code",
   "execution_count": 4,
   "id": "13d8f764",
   "metadata": {},
   "outputs": [],
   "source": [
    "from scipy.stats import f_oneway\n",
    "\n",
    "# Null Hypothesis:\n",
    "# Two or more groups have same population mean\n",
    "\n",
    "f_statistic, p_value = f_oneway(df['Exam 1'], df['Exam 2'], df['Final Exam'])"
   ]
  },
  {
   "cell_type": "code",
   "execution_count": 5,
   "id": "2c9a92a2",
   "metadata": {},
   "outputs": [],
   "source": [
    "df[\"Average\"] = (df[\"Exam 1\"] + df[\"Exam 2\"] + df[\"Final Exam\"])/3"
   ]
  },
  {
   "cell_type": "code",
   "execution_count": 7,
   "id": "4c4e6687",
   "metadata": {},
   "outputs": [
    {
     "name": "stdout",
     "output_type": "stream",
     "text": [
      "We fail to reject the null hypothesis\n",
      "The students have similar mean scores\n"
     ]
    }
   ],
   "source": [
    "if p_value < 0.05:\n",
    "    print(f\"We reject the null hypothesis\")\n",
    "    max_average = df[\"Average\"].max()\n",
    "    name = df[df[\"Average\"] == max_average][\"Name\"].values[0]\n",
    "    print(f\"Name of student with highest mean score: {name}\")\n",
    "else:\n",
    "    print(f\"We fail to reject the null hypothesis\")\n",
    "    print(\"The students have similar mean scores\")"
   ]
  }
 ],
 "metadata": {
  "kernelspec": {
   "display_name": "Python 3 (ipykernel)",
   "language": "python",
   "name": "python3"
  },
  "language_info": {
   "codemirror_mode": {
    "name": "ipython",
    "version": 3
   },
   "file_extension": ".py",
   "mimetype": "text/x-python",
   "name": "python",
   "nbconvert_exporter": "python",
   "pygments_lexer": "ipython3",
   "version": "3.9.13"
  }
 },
 "nbformat": 4,
 "nbformat_minor": 5
}
