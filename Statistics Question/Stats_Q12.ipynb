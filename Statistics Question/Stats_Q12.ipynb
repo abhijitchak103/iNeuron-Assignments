{
 "cells": [
  {
   "cell_type": "markdown",
   "id": "597c32cd",
   "metadata": {},
   "source": [
    "## Statistics Question 12"
   ]
  },
  {
   "cell_type": "markdown",
   "id": "0f815ae4",
   "metadata": {},
   "source": [
    "A pharmaceutical company develops a new drug and wants to compare its effectiveness against a standard drug for treating a particular condition. They conduct a study with two groups: Group A receives the new drug, and Group B receives the standard\n",
    "drug. The company measures the improvement in a specific symptom for both groups after a 4-week treatment period.\n",
    "\n",
    "1. The company collects data from 30 patients in each group and calculates the mean improvement score and the standard deviation of improvement for each group. The mean improvement score for Group A is 2.5 with a standard deviation of 0.8, while the mean improvement score for Group B is 2.2 with a standard deviation of 0.6. Conduct a t-test to determine if there is a significant difference in the mean improvement scores between the two groups. Use a significance level of 0.05.\n",
    "\n",
    "2. Based on the t-test results, state whether the null hypothesis should be rejected or not. Provide a conclusion in the context of the study."
   ]
  },
  {
   "cell_type": "code",
   "execution_count": 1,
   "id": "1e9eca67",
   "metadata": {},
   "outputs": [],
   "source": [
    "import math\n",
    "from scipy.stats import t"
   ]
  },
  {
   "cell_type": "code",
   "execution_count": 2,
   "id": "f2124afa",
   "metadata": {},
   "outputs": [],
   "source": [
    "sample_group_a = 30\n",
    "mean_group_a = 2.5\n",
    "std_group_a = 0.8\n",
    "\n",
    "\n",
    "sample_group_b = 30\n",
    "mean_group_b = 2.2\n",
    "std_group_b = 0.6\n",
    "\n",
    "alpha = 0.05"
   ]
  },
  {
   "cell_type": "markdown",
   "id": "af3e9116",
   "metadata": {},
   "source": [
    "$H_{0}$ = \"There is no significant difference at $95$${%}$ Confidence Level\"\n",
    "\n",
    "$H_{a}$ = \"There is significant difference at $95$${%}$ Confidence Level\""
   ]
  },
  {
   "cell_type": "code",
   "execution_count": 3,
   "id": "1ea8fac7",
   "metadata": {},
   "outputs": [],
   "source": [
    "t_test = (mean_group_a - mean_group_b)/math.sqrt(((std_group_a**2)/sample_group_a)+((std_group_b**2)/sample_group_b))"
   ]
  },
  {
   "cell_type": "code",
   "execution_count": 4,
   "id": "a7f0fe3e",
   "metadata": {},
   "outputs": [],
   "source": [
    "df = sample_group_a+sample_group_b-2"
   ]
  },
  {
   "cell_type": "code",
   "execution_count": 5,
   "id": "cb4220ad",
   "metadata": {},
   "outputs": [
    {
     "name": "stdout",
     "output_type": "stream",
     "text": [
      "1.671552762153672\n"
     ]
    }
   ],
   "source": [
    "t_critical = t.ppf(1 - alpha, df=58)\n",
    "print(t_critical)"
   ]
  },
  {
   "cell_type": "code",
   "execution_count": 6,
   "id": "84374cb0",
   "metadata": {},
   "outputs": [
    {
     "name": "stdout",
     "output_type": "stream",
     "text": [
      "We reject the null hypothesis.\n"
     ]
    }
   ],
   "source": [
    "if t_test < t_critical:\n",
    "    print(\"We reject the null hypothesis.\")\n",
    "else:\n",
    "    print(\"We fail to reject the null hypothesis.\")"
   ]
  }
 ],
 "metadata": {
  "kernelspec": {
   "display_name": "Python 3 (ipykernel)",
   "language": "python",
   "name": "python3"
  },
  "language_info": {
   "codemirror_mode": {
    "name": "ipython",
    "version": 3
   },
   "file_extension": ".py",
   "mimetype": "text/x-python",
   "name": "python",
   "nbconvert_exporter": "python",
   "pygments_lexer": "ipython3",
   "version": "3.9.13"
  }
 },
 "nbformat": 4,
 "nbformat_minor": 5
}
