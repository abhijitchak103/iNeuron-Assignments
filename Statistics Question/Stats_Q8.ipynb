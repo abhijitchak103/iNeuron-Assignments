{
  "nbformat": 4,
  "nbformat_minor": 0,
  "metadata": {
    "colab": {
      "provenance": [],
      "authorship_tag": "ABX9TyNjRNE7lI6viGSgwXcMK5Mi"
    },
    "kernelspec": {
      "name": "python3",
      "display_name": "Python 3"
    },
    "language_info": {
      "name": "python"
    }
  },
  "cells": [
    {
      "cell_type": "markdown",
      "source": [
        "## Statistics Question 8"
      ],
      "metadata": {
        "id": "0dwGG_MFiOwg"
      }
    },
    {
      "cell_type": "markdown",
      "source": [
        "The anxiety levels of 10 participants were measured before and after a new therapy.\n",
        "The scores are not normally distributed. Use the Wilcoxon signed-rank test to test whether\n",
        "the therapy had a significant effect on anxiety levels. The data is given below: Participant\n",
        "Before therapy After therapy Difference.\n",
        "\n",
        "Participant | Before Therapy | After Therapy | Difference\n",
        "-- | -- | -- | -- \n",
        "1 | 10 | 7 | -3\n",
        "2 | 8 | 6 | -2\n",
        "3 | 12 | 10 | -2\n",
        "4 | 15 | 12 | -3\n",
        "5 | 6 | 5 | -1\n",
        "6 | 9 | 8 | -1\n",
        "7 | 11 | 9 | -2\n",
        "8 | 7 | 6 | -1\n",
        "9 | 14 | 12 | -2\n",
        "10 | 10 | 8 | -2"
      ],
      "metadata": {
        "id": "llOJYtnfiMl5"
      }
    },
    {
      "cell_type": "code",
      "execution_count": 1,
      "metadata": {
        "id": "APyv--T3h1D0"
      },
      "outputs": [],
      "source": [
        "from scipy.stats import wilcoxon"
      ]
    },
    {
      "cell_type": "code",
      "source": [
        "group1 = [10, 8, 12, 15, 6, 9, 11, 7, 14, 10]\n",
        "group2 = [7, 6, 10, 12, 5, 8, 9, 6, 12, 8]\n",
        "\n",
        "wilcoxon(group1, group2)"
      ],
      "metadata": {
        "colab": {
          "base_uri": "https://localhost:8080/"
        },
        "id": "4eZ2chf0jWLK",
        "outputId": "59792a89-ae5f-4d54-b49b-031787bd45ac"
      },
      "execution_count": 2,
      "outputs": [
        {
          "output_type": "execute_result",
          "data": {
            "text/plain": [
              "WilcoxonResult(statistic=0.0, pvalue=0.001953125)"
            ]
          },
          "metadata": {},
          "execution_count": 2
        }
      ]
    },
    {
      "cell_type": "code",
      "source": [
        "# the p-value is 0.002 which is less than the threshold(0.05) which is the alpha(0.05) \n",
        "# i.e. p-value < alpha which means the therapy had effect on anxiety levels."
      ],
      "metadata": {
        "id": "Gesfybq9jnzL"
      },
      "execution_count": 3,
      "outputs": []
    }
  ]
}