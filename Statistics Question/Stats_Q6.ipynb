{
  "nbformat": 4,
  "nbformat_minor": 0,
  "metadata": {
    "colab": {
      "provenance": [],
      "authorship_tag": "ABX9TyMpH21VTJ7eXW7PpaT6PrWT"
    },
    "kernelspec": {
      "name": "python3",
      "display_name": "Python 3"
    },
    "language_info": {
      "name": "python"
    }
  },
  "cells": [
    {
      "cell_type": "markdown",
      "source": [
        "## Statistics Q6\n",
        "\n",
        "A pharmaceutical company is developing a drug that is supposed to reduce blood\n",
        "pressure. They conduct a clinical trial with 100 patients and record their blood\n",
        "pressure before and after taking the drug. The company wants to know if the change\n",
        "in blood pressure follows a normal distribution.\n",
        "\n",
        "https://drive.google.com/file/d/1mCjtYHiX--mMUjicuaP2gH3k-SnFxt8Y/view?usp=share_"
      ],
      "metadata": {
        "id": "Jmp1ZD9ifNrC"
      }
    },
    {
      "cell_type": "code",
      "execution_count": 1,
      "metadata": {
        "id": "ByLWzWLTfMqn"
      },
      "outputs": [],
      "source": [
        "import pandas as pd"
      ]
    },
    {
      "cell_type": "code",
      "source": [
        "df = pd.read_csv('data.csv')"
      ],
      "metadata": {
        "id": "94dDWk3mfmUE"
      },
      "execution_count": 2,
      "outputs": []
    },
    {
      "cell_type": "code",
      "source": [
        "# Null Hypothesis: Data follows the Normal Distribution"
      ],
      "metadata": {
        "id": "ujg8VgJKgphU"
      },
      "execution_count": 6,
      "outputs": []
    },
    {
      "cell_type": "code",
      "source": [
        "from scipy.stats import shapiro"
      ],
      "metadata": {
        "id": "ab6S2nKnfrz0"
      },
      "execution_count": 3,
      "outputs": []
    },
    {
      "cell_type": "code",
      "source": [
        "shapiro(df[' Blood Pressure After (mmHg)'])"
      ],
      "metadata": {
        "colab": {
          "base_uri": "https://localhost:8080/"
        },
        "id": "R8-1BOg6gAIK",
        "outputId": "641a4ce5-53fc-4a5d-a6d7-f02a2466ac7a"
      },
      "execution_count": 5,
      "outputs": [
        {
          "output_type": "execute_result",
          "data": {
            "text/plain": [
              "ShapiroResult(statistic=0.9400556683540344, pvalue=0.00019430516113061458)"
            ]
          },
          "metadata": {},
          "execution_count": 5
        }
      ]
    },
    {
      "cell_type": "code",
      "source": [
        "# Since the p-value for Blood Pressure After (mmHg) is less than alpha(0.05), we reject the Null Hypothesis, \n",
        "# i.e. we have sufficient evidence to say that sample does not come from a normal distribution."
      ],
      "metadata": {
        "id": "lDIueu-hgJ1g"
      },
      "execution_count": 7,
      "outputs": []
    },
    {
      "cell_type": "code",
      "source": [
        "shapiro(df[' Blood Pressure Before (mmHg)'])"
      ],
      "metadata": {
        "colab": {
          "base_uri": "https://localhost:8080/"
        },
        "id": "_RpUmnOrhBpC",
        "outputId": "79613321-797e-4742-bbac-b8a2889f445f"
      },
      "execution_count": 8,
      "outputs": [
        {
          "output_type": "execute_result",
          "data": {
            "text/plain": [
              "ShapiroResult(statistic=0.9573234915733337, pvalue=0.002603276167064905)"
            ]
          },
          "metadata": {},
          "execution_count": 8
        }
      ]
    },
    {
      "cell_type": "code",
      "source": [
        "# Since the p-value for Blood Pressure Before (mmHg) is less than alpha(0.05), we reject the Null Hypothesis, \n",
        "# i.e. we have sufficient evidence to say that sample does not come from a normal distribution."
      ],
      "metadata": {
        "id": "9uY8aj1hhF6C"
      },
      "execution_count": 9,
      "outputs": []
    }
  ]
}