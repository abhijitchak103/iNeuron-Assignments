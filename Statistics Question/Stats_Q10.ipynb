{
 "cells": [
  {
   "cell_type": "markdown",
   "id": "7869688b",
   "metadata": {},
   "source": [
    "## Statistics Question 10"
   ]
  },
  {
   "cell_type": "markdown",
   "id": "fd1b554b",
   "metadata": {},
   "source": [
    "A factory produces light bulbs, and the probability of a bulb being defective is 0.05\n",
    "\n",
    "The factory produces a large batch of 500 light bulbs.\n",
    "\n",
    "Answer the following questions on the above information."
   ]
  },
  {
   "cell_type": "code",
   "execution_count": 1,
   "id": "314298fa",
   "metadata": {},
   "outputs": [],
   "source": [
    "from scipy import stats"
   ]
  },
  {
   "cell_type": "markdown",
   "id": "b8eab804",
   "metadata": {},
   "source": [
    "1. What is the probability that exactly 20 bulbs are defective?"
   ]
  },
  {
   "cell_type": "code",
   "execution_count": 2,
   "id": "eec18743",
   "metadata": {
    "scrolled": true
   },
   "outputs": [
    {
     "name": "stdout",
     "output_type": "stream",
     "text": [
      "The probability that exactly 20 bulbs are defective: 0.051616192536641056\n"
     ]
    }
   ],
   "source": [
    "print(f\"The probability that exactly 20 bulbs are defective: {stats.binom.pmf(20,500,0.05)}\")"
   ]
  },
  {
   "cell_type": "markdown",
   "id": "b0983696",
   "metadata": {},
   "source": [
    "2. What is the probability that at least 10 bulbs are defective?"
   ]
  },
  {
   "cell_type": "code",
   "execution_count": 3,
   "id": "8214c0a1",
   "metadata": {},
   "outputs": [
    {
     "name": "stdout",
     "output_type": "stream",
     "text": [
      "The probability that at least 10 bulbs are defective: 0.9998316463654902\n"
     ]
    }
   ],
   "source": [
    "print(f\"The probability that at least 10 bulbs are defective: {1-stats.binom.cdf(9,500,0.05)}\")"
   ]
  },
  {
   "cell_type": "markdown",
   "id": "d3b045e8",
   "metadata": {},
   "source": [
    "3. What is the probability that at max 15 bulbs are defective?"
   ]
  },
  {
   "cell_type": "code",
   "execution_count": 4,
   "id": "dd21b0f2",
   "metadata": {},
   "outputs": [
    {
     "name": "stdout",
     "output_type": "stream",
     "text": [
      "The probability that at least 10 bulbs are defective: 0.01985837716300623\n"
     ]
    }
   ],
   "source": [
    "print(f\"The probability that at least 10 bulbs are defective: {stats.binom.cdf(15,500,0.05)}\")"
   ]
  },
  {
   "cell_type": "markdown",
   "id": "903ac2dc",
   "metadata": {},
   "source": [
    "4. On average, how many defective bulbs would you expect in a batch of 500?"
   ]
  },
  {
   "cell_type": "code",
   "execution_count": 5,
   "id": "1fb535f0",
   "metadata": {},
   "outputs": [
    {
     "name": "stdout",
     "output_type": "stream",
     "text": [
      "On average, Defective bulbs would expect in a batch of 500 is 25.0\n"
     ]
    }
   ],
   "source": [
    "print(f\"On average, Defective bulbs would expect in a batch of 500 is {0.05*500}\")"
   ]
  }
 ],
 "metadata": {
  "kernelspec": {
   "display_name": "Python 3 (ipykernel)",
   "language": "python",
   "name": "python3"
  },
  "language_info": {
   "codemirror_mode": {
    "name": "ipython",
    "version": 3
   },
   "file_extension": ".py",
   "mimetype": "text/x-python",
   "name": "python",
   "nbconvert_exporter": "python",
   "pygments_lexer": "ipython3",
   "version": "3.9.13"
  }
 },
 "nbformat": 4,
 "nbformat_minor": 5
}
