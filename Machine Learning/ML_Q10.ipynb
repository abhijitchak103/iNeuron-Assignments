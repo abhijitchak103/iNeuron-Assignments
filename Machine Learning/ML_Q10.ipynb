{
 "cells": [
  {
   "cell_type": "code",
   "execution_count": null,
   "id": "57115ee8",
   "metadata": {},
   "outputs": [],
   "source": [
    "import pandas as pd\n",
    "import dask.dataframe as dd"
   ]
  },
  {
   "cell_type": "code",
   "execution_count": null,
   "id": "aec0a9f7",
   "metadata": {},
   "outputs": [],
   "source": [
    "ddf = dd.read_csv('C:/Users/Abhijit/Desktop/train/avazu-ctr-prediction.csv', assume_missing=True)\n",
    "df = ddf.compute()"
   ]
  },
  {
   "cell_type": "code",
   "execution_count": null,
   "id": "5639025c",
   "metadata": {
    "scrolled": false
   },
   "outputs": [],
   "source": [
    "df.head()"
   ]
  },
  {
   "cell_type": "code",
   "execution_count": null,
   "id": "e9b8e2c1",
   "metadata": {},
   "outputs": [],
   "source": [
    "df.shape"
   ]
  },
  {
   "cell_type": "code",
   "execution_count": null,
   "id": "33a911c7",
   "metadata": {},
   "outputs": [],
   "source": [
    "cat_columns = [col for col in df.columns if df[col].dtype == 'O']\n",
    "cat_columns"
   ]
  },
  {
   "cell_type": "code",
   "execution_count": null,
   "id": "a7829f94",
   "metadata": {
    "scrolled": true
   },
   "outputs": [],
   "source": [
    "for col in cat_columns:\n",
    "    print(f\"Feature Name: {col}\")\n",
    "    print(df[col].nunique())\n",
    "    print(\"=======================\")"
   ]
  },
  {
   "cell_type": "markdown",
   "id": "3a29517e",
   "metadata": {},
   "source": [
    "We will proceed with dropping the categorical columns as we have high number of unique values"
   ]
  },
  {
   "cell_type": "code",
   "execution_count": null,
   "id": "e9eb56f6",
   "metadata": {},
   "outputs": [],
   "source": [
    "df.drop(columns = ['id', 'site_id', 'site_domain', 'app_id', 'app_domain', \n",
    "                   'device_id', 'device_ip', 'device_model', 'site_category', 'app_category'], \n",
    "        axis=1, inplace=True)"
   ]
  },
  {
   "cell_type": "code",
   "execution_count": null,
   "id": "70fa25b4",
   "metadata": {},
   "outputs": [],
   "source": [
    "y = df.click"
   ]
  },
  {
   "cell_type": "code",
   "execution_count": null,
   "id": "85fa79cb",
   "metadata": {},
   "outputs": [],
   "source": [
    "X = df.drop(columns='click')"
   ]
  },
  {
   "cell_type": "code",
   "execution_count": null,
   "id": "51725ca6",
   "metadata": {},
   "outputs": [],
   "source": [
    "from sklearn.model_selection import train_test_split\n",
    "from sklearn.preprocessing import StandardScaler\n",
    "from sklearn.tree import DecisionTreeClassifier\n",
    "from sklearn.ensemble import RandomForestClassifier\n",
    "from sklearn.svm import SVC\n",
    "from sklearn.metrics import accuracy_score"
   ]
  },
  {
   "cell_type": "code",
   "execution_count": null,
   "id": "d42bf890",
   "metadata": {},
   "outputs": [],
   "source": [
    "scaler = StandardScaler()"
   ]
  },
  {
   "cell_type": "code",
   "execution_count": null,
   "id": "22e877fb",
   "metadata": {},
   "outputs": [],
   "source": [
    "X = scaler.fit_transform(X)"
   ]
  },
  {
   "cell_type": "code",
   "execution_count": null,
   "id": "1cf23a9d",
   "metadata": {},
   "outputs": [],
   "source": [
    "X_train, X_test, y_train, y_test = train_test_split(X, y, test_size=0.3, random_state=10)"
   ]
  },
  {
   "cell_type": "code",
   "execution_count": null,
   "id": "615d018f",
   "metadata": {},
   "outputs": [],
   "source": [
    "models = {\n",
    "    \"SVC\": SVC(),\n",
    "    \"Decision Tree Classifier\": DecisionTreeClassifier(),\n",
    "    \"Random Forest Classifier\": RandomForestClassifier()\n",
    "}"
   ]
  },
  {
   "cell_type": "code",
   "execution_count": null,
   "id": "55115b3d",
   "metadata": {},
   "outputs": [],
   "source": [
    "model_scores = []\n",
    "model_names = []"
   ]
  },
  {
   "cell_type": "code",
   "execution_count": null,
   "id": "c210d8bb",
   "metadata": {},
   "outputs": [],
   "source": [
    "for key, value in models.items():\n",
    "    model = value\n",
    "    model.fit(X_train, y_train)\n",
    "    y_pred = model.predict(X_test)\n",
    "    score = accuracy_score(y_test, y_pred)\n",
    "    \n",
    "    print(f\"Score with {key} is: {score}\")\n",
    "    model_scores.append(score)\n",
    "    model_names.append(key)"
   ]
  },
  {
   "cell_type": "code",
   "execution_count": null,
   "id": "728aa94b",
   "metadata": {},
   "outputs": [],
   "source": [
    "idx = model_scores.index(max(model_scores))\n",
    "print(f\"Base Model with highest accuracy: {model_names[idx]}\")"
   ]
  }
 ],
 "metadata": {
  "kernelspec": {
   "display_name": "Python 3 (ipykernel)",
   "language": "python",
   "name": "python3"
  },
  "language_info": {
   "codemirror_mode": {
    "name": "ipython",
    "version": 3
   },
   "file_extension": ".py",
   "mimetype": "text/x-python",
   "name": "python",
   "nbconvert_exporter": "python",
   "pygments_lexer": "ipython3",
   "version": "3.9.13"
  }
 },
 "nbformat": 4,
 "nbformat_minor": 5
}
