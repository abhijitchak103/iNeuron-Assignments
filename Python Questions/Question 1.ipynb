{
 "cells": [
  {
   "cell_type": "markdown",
   "id": "46b0d7a7",
   "metadata": {},
   "source": [
    "Question 1: \n",
    "Write a program that takes a string as input, and counts the frequency of each word in the string, there might\n",
    "be repeated characters in the string. Your task is to find the highest frequency and returns the length of the\n",
    "highest-frequency word.\n",
    "\n",
    "\n",
    "Note - You have to write at least 2 additional test cases in which your program will run successfully and provide\n",
    "an explanation for the same.\n",
    "- Example input - string = “write write write all the number from from from 1 to 100”\n",
    "- Example output - 5\n",
    "- Explanation - From the given string we can note that the most frequent words are “write” and “from” and\n",
    "the maximum value of both the values is “write” and its corresponding length is 5"
   ]
  },
  {
   "cell_type": "code",
   "execution_count": 1,
   "id": "4955f5c8",
   "metadata": {},
   "outputs": [],
   "source": [
    "def remove_punctuations(user_string: str) -> str:\n",
    "    \"\"\"\n",
    "    Removes all punctuations from the string\n",
    "    \"\"\"\n",
    "    import string\n",
    "    \n",
    "    formatted_string = \"\".join([x for x in user_string if x not in string.punctuation])\n",
    "    return formatted_string"
   ]
  },
  {
   "cell_type": "code",
   "execution_count": 2,
   "id": "c9e4e9a0",
   "metadata": {},
   "outputs": [],
   "source": [
    "def get_word_count(user_string: str) -> dict:\n",
    "    \"\"\"\n",
    "    Returns a dictionary of word counts in input string.\n",
    "    \"\"\"\n",
    "    words = user_string.split()\n",
    "    unique_words = list(set(words))\n",
    "    \n",
    "    word_count = {}\n",
    "    for word in unique_words:\n",
    "        word_count[word] = words.count(word)\n",
    "        \n",
    "    return word_count"
   ]
  },
  {
   "cell_type": "code",
   "execution_count": 3,
   "id": "174af235",
   "metadata": {},
   "outputs": [],
   "source": [
    "def max_word_count(word_count: dict) -> list:\n",
    "    \"\"\"\n",
    "    Returns a list of word/words having maximum values associated with it.\n",
    "    \n",
    "    Arguments:\n",
    "    word_count: dict = Dictionary having key entries as string and values as integers.\n",
    "    \"\"\"\n",
    "    \n",
    "    max_count = max(list(word_count.values()))\n",
    "    words_with_max_count = []\n",
    "    \n",
    "    for key, value in word_count.items():\n",
    "        if value == max_count:\n",
    "            words_with_max_count.append(key)\n",
    "    return words_with_max_count "
   ]
  },
  {
   "cell_type": "code",
   "execution_count": 4,
   "id": "2f721d9b",
   "metadata": {},
   "outputs": [],
   "source": [
    "def length_of_longest_string(word_list: list) -> int:\n",
    "    \"\"\"\n",
    "    Returns the length of the word(s) having the maximum number of characters.\n",
    "    \"\"\"\n",
    "    max_length = 0\n",
    "    for word in word_list:\n",
    "        word_length = len(word)\n",
    "        if word_length > max_length:\n",
    "            max_length = word_length\n",
    "            \n",
    "    return max_length    "
   ]
  },
  {
   "cell_type": "code",
   "execution_count": 5,
   "id": "7bb2071f",
   "metadata": {},
   "outputs": [],
   "source": [
    "def get_length_of_most_repeated_substring(user_string: str) -> int:\n",
    "    \"\"\"\n",
    "    Returns the length of the substring occuring maximum number of times in input string.\n",
    "    NOTE: Treats upper and lower case differently\n",
    "    \"\"\"\n",
    "    try:\n",
    "        user_string = remove_punctuations(user_string)\n",
    "    except:\n",
    "        raise(\"Error occured in user_string\")\n",
    "\n",
    "    try:\n",
    "        word_count = get_word_count(user_string)\n",
    "    except:\n",
    "        raise(\"Error occured in get_word_count\")\n",
    "    \n",
    "    try:\n",
    "        words_with_max_count = max_word_count(word_count)\n",
    "    except:\n",
    "        raise(\"Error occured in max_word_count\")\n",
    "        \n",
    "    try:\n",
    "        max_length = length_of_longest_string(words_with_max_count)\n",
    "    except: \n",
    "        raise(\"Error occured in length_of_longest_string\")\n",
    "        \n",
    "    return max_length"
   ]
  },
  {
   "cell_type": "code",
   "execution_count": 6,
   "id": "e08f1f8f",
   "metadata": {},
   "outputs": [],
   "source": [
    "user_string1 = \"write write write all the number from from from 1 to 100\"\n",
    "user_string2 = \"when i am not working in anyy project, i am not getting anyy progress\"\n",
    "user_string3 = \"love love love woaah wooah woaah goodyy goodyy goodyy\""
   ]
  },
  {
   "cell_type": "code",
   "execution_count": 7,
   "id": "44cb1610",
   "metadata": {},
   "outputs": [
    {
     "data": {
      "text/plain": [
       "5"
      ]
     },
     "execution_count": 7,
     "metadata": {},
     "output_type": "execute_result"
    }
   ],
   "source": [
    "get_length_of_most_repeated_substring(user_string=user_string1)"
   ]
  },
  {
   "cell_type": "code",
   "execution_count": 8,
   "id": "81faddd4",
   "metadata": {},
   "outputs": [
    {
     "data": {
      "text/plain": [
       "4"
      ]
     },
     "execution_count": 8,
     "metadata": {},
     "output_type": "execute_result"
    }
   ],
   "source": [
    "get_length_of_most_repeated_substring(user_string=user_string2)"
   ]
  },
  {
   "cell_type": "markdown",
   "id": "7d6161fc",
   "metadata": {},
   "source": [
    "In this example, we get 4 as the answer as 'i', 'am', 'not' and 'anyy' all have 2 counts. And among these, 'anyy' has the highest character count which is 4."
   ]
  },
  {
   "cell_type": "code",
   "execution_count": 9,
   "id": "e948c058",
   "metadata": {},
   "outputs": [
    {
     "data": {
      "text/plain": [
       "6"
      ]
     },
     "execution_count": 9,
     "metadata": {},
     "output_type": "execute_result"
    }
   ],
   "source": [
    "get_length_of_most_repeated_substring(user_string=user_string3)"
   ]
  },
  {
   "cell_type": "markdown",
   "id": "af756b43",
   "metadata": {},
   "source": [
    "In this example, 'goodyy' and 'love' both occur 3 times, and 'goodyy' has 6 characters whereas 'love' has 4 characters."
   ]
  },
  {
   "cell_type": "markdown",
   "id": "7985cd08",
   "metadata": {},
   "source": [
    "----------------------------"
   ]
  },
  {
   "cell_type": "code",
   "execution_count": null,
   "id": "019b7d74",
   "metadata": {},
   "outputs": [],
   "source": []
  }
 ],
 "metadata": {
  "kernelspec": {
   "display_name": "Python 3 (ipykernel)",
   "language": "python",
   "name": "python3"
  },
  "language_info": {
   "codemirror_mode": {
    "name": "ipython",
    "version": 3
   },
   "file_extension": ".py",
   "mimetype": "text/x-python",
   "name": "python",
   "nbconvert_exporter": "python",
   "pygments_lexer": "ipython3",
   "version": "3.9.13"
  }
 },
 "nbformat": 4,
 "nbformat_minor": 5
}
