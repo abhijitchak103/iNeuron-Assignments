{
 "cells": [
  {
   "cell_type": "markdown",
   "id": "f92cbddf",
   "metadata": {},
   "source": [
    "# Question 6 Solutions using Data from Q3"
   ]
  },
  {
   "cell_type": "code",
   "execution_count": 1,
   "id": "9da42262",
   "metadata": {},
   "outputs": [],
   "source": [
    "# Import packages and modules\n",
    "\n",
    "import pandas as pd\n",
    "import numpy as np\n",
    "import matplotlib.pyplot as plt\n",
    "%matplotlib inline\n",
    "\n",
    "# Import ast to use literal_eval\n",
    "import ast"
   ]
  },
  {
   "cell_type": "code",
   "execution_count": 2,
   "id": "26522aae",
   "metadata": {},
   "outputs": [
    {
     "data": {
      "text/html": [
       "<div>\n",
       "<style scoped>\n",
       "    .dataframe tbody tr th:only-of-type {\n",
       "        vertical-align: middle;\n",
       "    }\n",
       "\n",
       "    .dataframe tbody tr th {\n",
       "        vertical-align: top;\n",
       "    }\n",
       "\n",
       "    .dataframe thead th {\n",
       "        text-align: right;\n",
       "    }\n",
       "</style>\n",
       "<table border=\"1\" class=\"dataframe\">\n",
       "  <thead>\n",
       "    <tr style=\"text-align: right;\">\n",
       "      <th></th>\n",
       "      <th>id</th>\n",
       "      <th>num</th>\n",
       "      <th>name</th>\n",
       "      <th>img</th>\n",
       "      <th>type</th>\n",
       "      <th>height</th>\n",
       "      <th>weight</th>\n",
       "      <th>candy</th>\n",
       "      <th>candy_count</th>\n",
       "      <th>egg</th>\n",
       "      <th>spawn_chance</th>\n",
       "      <th>avg_spawns</th>\n",
       "      <th>spawn_time</th>\n",
       "      <th>multipliers</th>\n",
       "      <th>weaknesses</th>\n",
       "      <th>next_evolution</th>\n",
       "      <th>prev_evolution</th>\n",
       "    </tr>\n",
       "  </thead>\n",
       "  <tbody>\n",
       "    <tr>\n",
       "      <th>0</th>\n",
       "      <td>1</td>\n",
       "      <td>1</td>\n",
       "      <td>Bulbasaur</td>\n",
       "      <td>http://www.serebii.net/pokemongo/pokemon/001.png</td>\n",
       "      <td>['Grass', 'Poison']</td>\n",
       "      <td>0.71</td>\n",
       "      <td>6.9</td>\n",
       "      <td>Bulbasaur Candy</td>\n",
       "      <td>25.0</td>\n",
       "      <td>2</td>\n",
       "      <td>0.690</td>\n",
       "      <td>69.0</td>\n",
       "      <td>20:00</td>\n",
       "      <td>[1.58]</td>\n",
       "      <td>['Fire', 'Ice', 'Flying', 'Psychic']</td>\n",
       "      <td>[{'num': '002', 'name': 'Ivysaur'}, {'num': '0...</td>\n",
       "      <td>NaN</td>\n",
       "    </tr>\n",
       "    <tr>\n",
       "      <th>1</th>\n",
       "      <td>2</td>\n",
       "      <td>2</td>\n",
       "      <td>Ivysaur</td>\n",
       "      <td>http://www.serebii.net/pokemongo/pokemon/002.png</td>\n",
       "      <td>['Grass', 'Poison']</td>\n",
       "      <td>0.99</td>\n",
       "      <td>13.0</td>\n",
       "      <td>Bulbasaur Candy</td>\n",
       "      <td>100.0</td>\n",
       "      <td>Not in Eggs</td>\n",
       "      <td>0.042</td>\n",
       "      <td>4.2</td>\n",
       "      <td>07:00</td>\n",
       "      <td>[1.2, 1.6]</td>\n",
       "      <td>['Fire', 'Ice', 'Flying', 'Psychic']</td>\n",
       "      <td>[{'num': '003', 'name': 'Venusaur'}]</td>\n",
       "      <td>[{'num': '001', 'name': 'Bulbasaur'}]</td>\n",
       "    </tr>\n",
       "    <tr>\n",
       "      <th>2</th>\n",
       "      <td>3</td>\n",
       "      <td>3</td>\n",
       "      <td>Venusaur</td>\n",
       "      <td>http://www.serebii.net/pokemongo/pokemon/003.png</td>\n",
       "      <td>['Grass', 'Poison']</td>\n",
       "      <td>2.01</td>\n",
       "      <td>100.0</td>\n",
       "      <td>Bulbasaur Candy</td>\n",
       "      <td>NaN</td>\n",
       "      <td>Not in Eggs</td>\n",
       "      <td>0.017</td>\n",
       "      <td>1.7</td>\n",
       "      <td>11:30</td>\n",
       "      <td>NaN</td>\n",
       "      <td>['Fire', 'Ice', 'Flying', 'Psychic']</td>\n",
       "      <td>NaN</td>\n",
       "      <td>[{'num': '001', 'name': 'Bulbasaur'}, {'num': ...</td>\n",
       "    </tr>\n",
       "    <tr>\n",
       "      <th>3</th>\n",
       "      <td>4</td>\n",
       "      <td>4</td>\n",
       "      <td>Charmander</td>\n",
       "      <td>http://www.serebii.net/pokemongo/pokemon/004.png</td>\n",
       "      <td>['Fire']</td>\n",
       "      <td>0.61</td>\n",
       "      <td>8.5</td>\n",
       "      <td>Charmander Candy</td>\n",
       "      <td>25.0</td>\n",
       "      <td>2</td>\n",
       "      <td>0.253</td>\n",
       "      <td>25.3</td>\n",
       "      <td>08:45</td>\n",
       "      <td>[1.65]</td>\n",
       "      <td>['Water', 'Ground', 'Rock']</td>\n",
       "      <td>[{'num': '005', 'name': 'Charmeleon'}, {'num':...</td>\n",
       "      <td>NaN</td>\n",
       "    </tr>\n",
       "    <tr>\n",
       "      <th>4</th>\n",
       "      <td>5</td>\n",
       "      <td>5</td>\n",
       "      <td>Charmeleon</td>\n",
       "      <td>http://www.serebii.net/pokemongo/pokemon/005.png</td>\n",
       "      <td>['Fire']</td>\n",
       "      <td>1.09</td>\n",
       "      <td>19.0</td>\n",
       "      <td>Charmander Candy</td>\n",
       "      <td>100.0</td>\n",
       "      <td>Not in Eggs</td>\n",
       "      <td>0.012</td>\n",
       "      <td>1.2</td>\n",
       "      <td>19:00</td>\n",
       "      <td>[1.79]</td>\n",
       "      <td>['Water', 'Ground', 'Rock']</td>\n",
       "      <td>[{'num': '006', 'name': 'Charizard'}]</td>\n",
       "      <td>[{'num': '004', 'name': 'Charmander'}]</td>\n",
       "    </tr>\n",
       "  </tbody>\n",
       "</table>\n",
       "</div>"
      ],
      "text/plain": [
       "   id  num        name                                               img  \\\n",
       "0   1    1   Bulbasaur  http://www.serebii.net/pokemongo/pokemon/001.png   \n",
       "1   2    2     Ivysaur  http://www.serebii.net/pokemongo/pokemon/002.png   \n",
       "2   3    3    Venusaur  http://www.serebii.net/pokemongo/pokemon/003.png   \n",
       "3   4    4  Charmander  http://www.serebii.net/pokemongo/pokemon/004.png   \n",
       "4   5    5  Charmeleon  http://www.serebii.net/pokemongo/pokemon/005.png   \n",
       "\n",
       "                  type  height  weight             candy  candy_count  \\\n",
       "0  ['Grass', 'Poison']    0.71     6.9   Bulbasaur Candy         25.0   \n",
       "1  ['Grass', 'Poison']    0.99    13.0   Bulbasaur Candy        100.0   \n",
       "2  ['Grass', 'Poison']    2.01   100.0   Bulbasaur Candy          NaN   \n",
       "3             ['Fire']    0.61     8.5  Charmander Candy         25.0   \n",
       "4             ['Fire']    1.09    19.0  Charmander Candy        100.0   \n",
       "\n",
       "           egg  spawn_chance  avg_spawns spawn_time multipliers  \\\n",
       "0            2         0.690        69.0      20:00      [1.58]   \n",
       "1  Not in Eggs         0.042         4.2      07:00  [1.2, 1.6]   \n",
       "2  Not in Eggs         0.017         1.7      11:30         NaN   \n",
       "3            2         0.253        25.3      08:45      [1.65]   \n",
       "4  Not in Eggs         0.012         1.2      19:00      [1.79]   \n",
       "\n",
       "                             weaknesses  \\\n",
       "0  ['Fire', 'Ice', 'Flying', 'Psychic']   \n",
       "1  ['Fire', 'Ice', 'Flying', 'Psychic']   \n",
       "2  ['Fire', 'Ice', 'Flying', 'Psychic']   \n",
       "3           ['Water', 'Ground', 'Rock']   \n",
       "4           ['Water', 'Ground', 'Rock']   \n",
       "\n",
       "                                      next_evolution  \\\n",
       "0  [{'num': '002', 'name': 'Ivysaur'}, {'num': '0...   \n",
       "1               [{'num': '003', 'name': 'Venusaur'}]   \n",
       "2                                                NaN   \n",
       "3  [{'num': '005', 'name': 'Charmeleon'}, {'num':...   \n",
       "4              [{'num': '006', 'name': 'Charizard'}]   \n",
       "\n",
       "                                      prev_evolution  \n",
       "0                                                NaN  \n",
       "1              [{'num': '001', 'name': 'Bulbasaur'}]  \n",
       "2  [{'num': '001', 'name': 'Bulbasaur'}, {'num': ...  \n",
       "3                                                NaN  \n",
       "4             [{'num': '004', 'name': 'Charmander'}]  "
      ]
     },
     "execution_count": 2,
     "metadata": {},
     "output_type": "execute_result"
    }
   ],
   "source": [
    "# Read the dataset\n",
    "\n",
    "df = pd.read_excel('pokemon.xlsx')\n",
    "df.head()"
   ]
  },
  {
   "cell_type": "markdown",
   "id": "b7a80ef1",
   "metadata": {},
   "source": [
    "#### Get all Pokemons whose spawn rate is less than 5%"
   ]
  },
  {
   "cell_type": "code",
   "execution_count": 3,
   "id": "bf6f29de",
   "metadata": {},
   "outputs": [],
   "source": [
    "pokemon_with_spawn_rate_less_than_5percent = list(df[df[\"spawn_chance\"] < 0.05][\"name\"])"
   ]
  },
  {
   "cell_type": "code",
   "execution_count": 4,
   "id": "2aa67b57",
   "metadata": {
    "scrolled": true
   },
   "outputs": [
    {
     "data": {
      "text/plain": [
       "['Ivysaur',\n",
       " 'Venusaur',\n",
       " 'Charmeleon',\n",
       " 'Charizard',\n",
       " 'Wartortle',\n",
       " 'Blastoise',\n",
       " 'Butterfree',\n",
       " 'Raichu',\n",
       " 'Sandslash',\n",
       " 'Nidoqueen',\n",
       " 'Nidoking',\n",
       " 'Clefable',\n",
       " 'Ninetales',\n",
       " 'Wigglytuff',\n",
       " 'Vileplume',\n",
       " 'Dugtrio',\n",
       " 'Persian',\n",
       " 'Primeape',\n",
       " 'Arcanine',\n",
       " 'Poliwrath',\n",
       " 'Kadabra',\n",
       " 'Alakazam',\n",
       " 'Machoke',\n",
       " 'Machamp',\n",
       " 'Victreebel',\n",
       " 'Golem',\n",
       " 'Rapidash',\n",
       " 'Slowbro',\n",
       " 'Magneton',\n",
       " \"Farfetch'd\",\n",
       " 'Dewgong',\n",
       " 'Muk',\n",
       " 'Cloyster',\n",
       " 'Gengar',\n",
       " 'Electrode',\n",
       " 'Exeggutor',\n",
       " 'Marowak',\n",
       " 'Hitmonlee',\n",
       " 'Hitmonchan',\n",
       " 'Lickitung',\n",
       " 'Weezing',\n",
       " 'Rhydon',\n",
       " 'Chansey',\n",
       " 'Kangaskhan',\n",
       " 'Seadra',\n",
       " 'Starmie',\n",
       " 'Mr. Mime',\n",
       " 'Gyarados',\n",
       " 'Lapras',\n",
       " 'Ditto',\n",
       " 'Vaporeon',\n",
       " 'Jolteon',\n",
       " 'Flareon',\n",
       " 'Porygon',\n",
       " 'Omastar',\n",
       " 'Kabutops',\n",
       " 'Aerodactyl',\n",
       " 'Snorlax',\n",
       " 'Articuno',\n",
       " 'Zapdos',\n",
       " 'Moltres',\n",
       " 'Dragonair',\n",
       " 'Dragonite',\n",
       " 'Mewtwo',\n",
       " 'Mew']"
      ]
     },
     "execution_count": 4,
     "metadata": {},
     "output_type": "execute_result"
    }
   ],
   "source": [
    "pokemon_with_spawn_rate_less_than_5percent"
   ]
  },
  {
   "cell_type": "code",
   "execution_count": 5,
   "id": "ed297b86",
   "metadata": {},
   "outputs": [
    {
     "data": {
      "text/plain": [
       "65"
      ]
     },
     "execution_count": 5,
     "metadata": {},
     "output_type": "execute_result"
    }
   ],
   "source": [
    "len(pokemon_with_spawn_rate_less_than_5percent)"
   ]
  },
  {
   "cell_type": "markdown",
   "id": "54cd63e2",
   "metadata": {},
   "source": [
    "Total there 65 pokemons which have spawn rate of less than 5 percent."
   ]
  },
  {
   "cell_type": "markdown",
   "id": "7239acc7",
   "metadata": {},
   "source": [
    "#### Get all Pokemons that have less than 4 weaknesses"
   ]
  },
  {
   "cell_type": "code",
   "execution_count": 6,
   "id": "6a361b9b",
   "metadata": {},
   "outputs": [
    {
     "data": {
      "text/plain": [
       "4"
      ]
     },
     "execution_count": 6,
     "metadata": {},
     "output_type": "execute_result"
    }
   ],
   "source": [
    "# Using strips and replace to convert string to list to list for analysis\n",
    "\n",
    "len(df[\"weaknesses\"][0].strip(\"\\'][ \\'\").replace(\"\\'\", \"\").replace(\" \", \"\").split(\",\"))"
   ]
  },
  {
   "cell_type": "code",
   "execution_count": 7,
   "id": "002a2e07",
   "metadata": {},
   "outputs": [],
   "source": [
    "# Defining a function to get the length of the embedded list\n",
    "\n",
    "def get_weakness_count(s: str) -> int:\n",
    "    \"\"\"\n",
    "    Returns the number of weaknesses for a pokemon\n",
    "    \"\"\"\n",
    "    \n",
    "    return len(s.strip(\"\\'][ \\'\").replace(\"\\'\", \"\").replace(\" \", \"\").split(\",\"))"
   ]
  },
  {
   "cell_type": "code",
   "execution_count": 8,
   "id": "a5fab1a8",
   "metadata": {},
   "outputs": [],
   "source": [
    "pokemon_with_weakness_less_than_4 = list(df[df[\"weaknesses\"].apply(lambda x: get_weakness_count(x)) < 4][\"name\"])"
   ]
  },
  {
   "cell_type": "code",
   "execution_count": 9,
   "id": "ab649fe4",
   "metadata": {
    "scrolled": true
   },
   "outputs": [
    {
     "data": {
      "text/plain": [
       "['Charmander',\n",
       " 'Charmeleon',\n",
       " 'Charizard',\n",
       " 'Squirtle',\n",
       " 'Wartortle',\n",
       " 'Blastoise',\n",
       " 'Caterpie',\n",
       " 'Metapod',\n",
       " 'Pidgey',\n",
       " 'Pidgeotto',\n",
       " 'Pidgeot',\n",
       " 'Rattata',\n",
       " 'Raticate',\n",
       " 'Spearow',\n",
       " 'Fearow',\n",
       " 'Ekans',\n",
       " 'Arbok',\n",
       " 'Pikachu',\n",
       " 'Raichu',\n",
       " 'Sandshrew',\n",
       " 'Sandslash',\n",
       " 'Nidoran ♀ (Female)',\n",
       " 'Nidorina',\n",
       " 'Nidoran ♂ (Male)',\n",
       " 'Nidorino',\n",
       " 'Clefairy',\n",
       " 'Clefable',\n",
       " 'Vulpix',\n",
       " 'Ninetales',\n",
       " 'Jigglypuff',\n",
       " 'Wigglytuff',\n",
       " 'Diglett',\n",
       " 'Dugtrio',\n",
       " 'Meowth',\n",
       " 'Persian',\n",
       " 'Psyduck',\n",
       " 'Golduck',\n",
       " 'Mankey',\n",
       " 'Primeape',\n",
       " 'Growlithe',\n",
       " 'Arcanine',\n",
       " 'Poliwag',\n",
       " 'Poliwhirl',\n",
       " 'Abra',\n",
       " 'Kadabra',\n",
       " 'Alakazam',\n",
       " 'Machop',\n",
       " 'Machoke',\n",
       " 'Machamp',\n",
       " 'Tentacool',\n",
       " 'Tentacruel',\n",
       " 'Ponyta',\n",
       " 'Rapidash',\n",
       " 'Magnemite',\n",
       " 'Magneton',\n",
       " \"Farfetch'd\",\n",
       " 'Doduo',\n",
       " 'Dodrio',\n",
       " 'Seel',\n",
       " 'Grimer',\n",
       " 'Muk',\n",
       " 'Shellder',\n",
       " 'Drowzee',\n",
       " 'Hypno',\n",
       " 'Krabby',\n",
       " 'Kingler',\n",
       " 'Voltorb',\n",
       " 'Electrode',\n",
       " 'Cubone',\n",
       " 'Marowak',\n",
       " 'Hitmonlee',\n",
       " 'Hitmonchan',\n",
       " 'Lickitung',\n",
       " 'Koffing',\n",
       " 'Weezing',\n",
       " 'Chansey',\n",
       " 'Kangaskhan',\n",
       " 'Horsea',\n",
       " 'Seadra',\n",
       " 'Goldeen',\n",
       " 'Seaking',\n",
       " 'Staryu',\n",
       " 'Mr. Mime',\n",
       " 'Electabuzz',\n",
       " 'Magmar',\n",
       " 'Pinsir',\n",
       " 'Tauros',\n",
       " 'Magikarp',\n",
       " 'Gyarados',\n",
       " 'Ditto',\n",
       " 'Eevee',\n",
       " 'Vaporeon',\n",
       " 'Jolteon',\n",
       " 'Flareon',\n",
       " 'Porygon',\n",
       " 'Snorlax',\n",
       " 'Zapdos',\n",
       " 'Moltres',\n",
       " 'Dratini',\n",
       " 'Dragonair',\n",
       " 'Mewtwo',\n",
       " 'Mew']"
      ]
     },
     "execution_count": 9,
     "metadata": {},
     "output_type": "execute_result"
    }
   ],
   "source": [
    "pokemon_with_weakness_less_than_4"
   ]
  },
  {
   "cell_type": "code",
   "execution_count": 10,
   "id": "3671156d",
   "metadata": {},
   "outputs": [
    {
     "data": {
      "text/plain": [
       "102"
      ]
     },
     "execution_count": 10,
     "metadata": {},
     "output_type": "execute_result"
    }
   ],
   "source": [
    "len(pokemon_with_weakness_less_than_4)"
   ]
  },
  {
   "cell_type": "markdown",
   "id": "a1837501",
   "metadata": {},
   "source": [
    "There are 102 pokemons which have less than 4 weaknesses."
   ]
  },
  {
   "cell_type": "markdown",
   "id": "c82c3484",
   "metadata": {},
   "source": [
    "#### Get all Pokemons that have no multipliers at all"
   ]
  },
  {
   "cell_type": "code",
   "execution_count": 11,
   "id": "1479b9d8",
   "metadata": {},
   "outputs": [],
   "source": [
    "pokemon_with_no_multipliers = list(df[df[\"multipliers\"].isna()][\"name\"])"
   ]
  },
  {
   "cell_type": "code",
   "execution_count": 12,
   "id": "28e990bc",
   "metadata": {
    "scrolled": true
   },
   "outputs": [
    {
     "data": {
      "text/plain": [
       "['Venusaur',\n",
       " 'Charizard',\n",
       " 'Blastoise',\n",
       " 'Butterfree',\n",
       " 'Beedrill',\n",
       " 'Pidgeot',\n",
       " 'Raticate',\n",
       " 'Fearow',\n",
       " 'Arbok',\n",
       " 'Raichu',\n",
       " 'Sandslash',\n",
       " 'Nidoqueen',\n",
       " 'Nidoking',\n",
       " 'Clefable',\n",
       " 'Ninetales',\n",
       " 'Wigglytuff',\n",
       " 'Golbat',\n",
       " 'Vileplume',\n",
       " 'Parasect',\n",
       " 'Venomoth',\n",
       " 'Dugtrio',\n",
       " 'Persian',\n",
       " 'Golduck',\n",
       " 'Primeape',\n",
       " 'Arcanine',\n",
       " 'Poliwrath',\n",
       " 'Alakazam',\n",
       " 'Machamp',\n",
       " 'Victreebel',\n",
       " 'Tentacruel',\n",
       " 'Golem',\n",
       " 'Rapidash',\n",
       " 'Slowbro',\n",
       " 'Magneton',\n",
       " \"Farfetch'd\",\n",
       " 'Dodrio',\n",
       " 'Dewgong',\n",
       " 'Muk',\n",
       " 'Cloyster',\n",
       " 'Gengar',\n",
       " 'Onix',\n",
       " 'Hypno',\n",
       " 'Kingler',\n",
       " 'Electrode',\n",
       " 'Exeggutor',\n",
       " 'Marowak',\n",
       " 'Hitmonlee',\n",
       " 'Hitmonchan',\n",
       " 'Lickitung',\n",
       " 'Weezing',\n",
       " 'Rhydon',\n",
       " 'Chansey',\n",
       " 'Tangela',\n",
       " 'Kangaskhan',\n",
       " 'Seadra',\n",
       " 'Seaking',\n",
       " 'Starmie',\n",
       " 'Mr. Mime',\n",
       " 'Scyther',\n",
       " 'Jynx',\n",
       " 'Electabuzz',\n",
       " 'Magmar',\n",
       " 'Pinsir',\n",
       " 'Tauros',\n",
       " 'Gyarados',\n",
       " 'Lapras',\n",
       " 'Ditto',\n",
       " 'Vaporeon',\n",
       " 'Jolteon',\n",
       " 'Flareon',\n",
       " 'Porygon',\n",
       " 'Omastar',\n",
       " 'Kabutops',\n",
       " 'Aerodactyl',\n",
       " 'Snorlax',\n",
       " 'Articuno',\n",
       " 'Zapdos',\n",
       " 'Moltres',\n",
       " 'Dragonite',\n",
       " 'Mewtwo',\n",
       " 'Mew']"
      ]
     },
     "execution_count": 12,
     "metadata": {},
     "output_type": "execute_result"
    }
   ],
   "source": [
    "pokemon_with_no_multipliers"
   ]
  },
  {
   "cell_type": "code",
   "execution_count": 13,
   "id": "eda4b87e",
   "metadata": {},
   "outputs": [
    {
     "data": {
      "text/plain": [
       "81"
      ]
     },
     "execution_count": 13,
     "metadata": {},
     "output_type": "execute_result"
    }
   ],
   "source": [
    "len(pokemon_with_no_multipliers)"
   ]
  },
  {
   "cell_type": "markdown",
   "id": "59eb19c7",
   "metadata": {},
   "source": [
    "There are 81 pokemons which have less than 4 weaknesses."
   ]
  },
  {
   "cell_type": "markdown",
   "id": "f1e1c128",
   "metadata": {},
   "source": [
    "#### Get all Pokemons that do not have more than 2 evolutions"
   ]
  },
  {
   "cell_type": "code",
   "execution_count": 14,
   "id": "c921d072",
   "metadata": {},
   "outputs": [
    {
     "data": {
      "text/plain": [
       "2"
      ]
     },
     "execution_count": 14,
     "metadata": {},
     "output_type": "execute_result"
    }
   ],
   "source": [
    "# Check for conversion to embedded list using ast module\n",
    "\n",
    "x = \"[{'num': 1, 'name': 'xasdsad'}, {'num': 2, 'name': 'djad'}]\"\n",
    "\n",
    "import ast\n",
    "x = ast.literal_eval(x)\n",
    "len(x)"
   ]
  },
  {
   "cell_type": "code",
   "execution_count": 15,
   "id": "d36e2943",
   "metadata": {},
   "outputs": [],
   "source": [
    "# Define a function for getting length of embedded list\n",
    "\n",
    "def get_item_count(s) -> int:\n",
    "    \"\"\"\n",
    "    Returns the count of items embedded within the string\n",
    "    \"\"\"\n",
    "\n",
    "    \n",
    "    # \"literal_eval\" evaluates an expression node or a string containing only a Python literal or container display. \n",
    "    # The string or node provided may only consist of the following Python literal structures: strings, \n",
    "    # bytes, numbers, tuples, lists, dicts, sets, booleans, None and Ellipsis.\n",
    "    \n",
    "    try:\n",
    "        if isinstance(s, str):\n",
    "            x = ast.literal_eval(s)\n",
    "            return len(x)  \n",
    "        else:\n",
    "            return s\n",
    "    except Exception as e:\n",
    "        raise(e)"
   ]
  },
  {
   "cell_type": "code",
   "execution_count": 16,
   "id": "2b25d261",
   "metadata": {},
   "outputs": [],
   "source": [
    "# Create a copy of df for analysis\n",
    "df_has_next_evolution = df.copy()\n",
    "\n",
    "# Replace Nan with 0\n",
    "df_has_next_evolution[\"next_evolution\"].fillna(0, inplace = True)\n",
    "\n",
    "# Evaluating the problem\n",
    "pokemon_with_no_more_than_2_evolutions = list(df_has_next_evolution[df_has_next_evolution[\"next_evolution\"].\n",
    "                                                                    apply(lambda x: get_item_count(x)) <= 2][\"name\"])"
   ]
  },
  {
   "cell_type": "code",
   "execution_count": 17,
   "id": "493f3c04",
   "metadata": {
    "scrolled": true
   },
   "outputs": [
    {
     "data": {
      "text/plain": [
       "['Bulbasaur',\n",
       " 'Ivysaur',\n",
       " 'Venusaur',\n",
       " 'Charmander',\n",
       " 'Charmeleon',\n",
       " 'Charizard',\n",
       " 'Squirtle',\n",
       " 'Wartortle',\n",
       " 'Blastoise',\n",
       " 'Caterpie',\n",
       " 'Metapod',\n",
       " 'Butterfree',\n",
       " 'Weedle',\n",
       " 'Kakuna',\n",
       " 'Beedrill',\n",
       " 'Pidgey',\n",
       " 'Pidgeotto',\n",
       " 'Pidgeot',\n",
       " 'Rattata',\n",
       " 'Raticate',\n",
       " 'Spearow',\n",
       " 'Fearow',\n",
       " 'Ekans',\n",
       " 'Arbok',\n",
       " 'Pikachu',\n",
       " 'Raichu',\n",
       " 'Sandshrew',\n",
       " 'Sandslash',\n",
       " 'Nidoran ♀ (Female)',\n",
       " 'Nidorina',\n",
       " 'Nidoqueen',\n",
       " 'Nidoran ♂ (Male)',\n",
       " 'Nidorino',\n",
       " 'Nidoking',\n",
       " 'Clefairy',\n",
       " 'Clefable',\n",
       " 'Vulpix',\n",
       " 'Ninetales',\n",
       " 'Jigglypuff',\n",
       " 'Wigglytuff',\n",
       " 'Zubat',\n",
       " 'Golbat',\n",
       " 'Oddish',\n",
       " 'Gloom',\n",
       " 'Vileplume',\n",
       " 'Paras',\n",
       " 'Parasect',\n",
       " 'Venonat',\n",
       " 'Venomoth',\n",
       " 'Diglett',\n",
       " 'Dugtrio',\n",
       " 'Meowth',\n",
       " 'Persian',\n",
       " 'Psyduck',\n",
       " 'Golduck',\n",
       " 'Mankey',\n",
       " 'Primeape',\n",
       " 'Growlithe',\n",
       " 'Arcanine',\n",
       " 'Poliwag',\n",
       " 'Poliwhirl',\n",
       " 'Poliwrath',\n",
       " 'Abra',\n",
       " 'Kadabra',\n",
       " 'Alakazam',\n",
       " 'Machop',\n",
       " 'Machoke',\n",
       " 'Machamp',\n",
       " 'Bellsprout',\n",
       " 'Weepinbell',\n",
       " 'Victreebel',\n",
       " 'Tentacool',\n",
       " 'Tentacruel',\n",
       " 'Geodude',\n",
       " 'Graveler',\n",
       " 'Golem',\n",
       " 'Ponyta',\n",
       " 'Rapidash',\n",
       " 'Slowpoke',\n",
       " 'Slowbro',\n",
       " 'Magnemite',\n",
       " 'Magneton',\n",
       " \"Farfetch'd\",\n",
       " 'Doduo',\n",
       " 'Dodrio',\n",
       " 'Seel',\n",
       " 'Dewgong',\n",
       " 'Grimer',\n",
       " 'Muk',\n",
       " 'Shellder',\n",
       " 'Cloyster',\n",
       " 'Gastly',\n",
       " 'Haunter',\n",
       " 'Gengar',\n",
       " 'Onix',\n",
       " 'Drowzee',\n",
       " 'Hypno',\n",
       " 'Krabby',\n",
       " 'Kingler',\n",
       " 'Voltorb',\n",
       " 'Electrode',\n",
       " 'Exeggcute',\n",
       " 'Exeggutor',\n",
       " 'Cubone',\n",
       " 'Marowak',\n",
       " 'Hitmonlee',\n",
       " 'Hitmonchan',\n",
       " 'Lickitung',\n",
       " 'Koffing',\n",
       " 'Weezing',\n",
       " 'Rhyhorn',\n",
       " 'Rhydon',\n",
       " 'Chansey',\n",
       " 'Tangela',\n",
       " 'Kangaskhan',\n",
       " 'Horsea',\n",
       " 'Seadra',\n",
       " 'Goldeen',\n",
       " 'Seaking',\n",
       " 'Staryu',\n",
       " 'Starmie',\n",
       " 'Mr. Mime',\n",
       " 'Scyther',\n",
       " 'Jynx',\n",
       " 'Electabuzz',\n",
       " 'Magmar',\n",
       " 'Pinsir',\n",
       " 'Tauros',\n",
       " 'Magikarp',\n",
       " 'Gyarados',\n",
       " 'Lapras',\n",
       " 'Ditto',\n",
       " 'Vaporeon',\n",
       " 'Jolteon',\n",
       " 'Flareon',\n",
       " 'Porygon',\n",
       " 'Omanyte',\n",
       " 'Omastar',\n",
       " 'Kabuto',\n",
       " 'Kabutops',\n",
       " 'Aerodactyl',\n",
       " 'Snorlax',\n",
       " 'Articuno',\n",
       " 'Zapdos',\n",
       " 'Moltres',\n",
       " 'Dratini',\n",
       " 'Dragonair',\n",
       " 'Dragonite',\n",
       " 'Mewtwo',\n",
       " 'Mew']"
      ]
     },
     "execution_count": 17,
     "metadata": {},
     "output_type": "execute_result"
    }
   ],
   "source": [
    "pokemon_with_no_more_than_2_evolutions"
   ]
  },
  {
   "cell_type": "code",
   "execution_count": 18,
   "id": "fb633c45",
   "metadata": {},
   "outputs": [
    {
     "data": {
      "text/plain": [
       "150"
      ]
     },
     "execution_count": 18,
     "metadata": {},
     "output_type": "execute_result"
    }
   ],
   "source": [
    "len(pokemon_with_no_more_than_2_evolutions)"
   ]
  },
  {
   "cell_type": "code",
   "execution_count": 19,
   "id": "42f29726",
   "metadata": {},
   "outputs": [
    {
     "data": {
      "text/plain": [
       "132    Eevee\n",
       "Name: name, dtype: object"
      ]
     },
     "execution_count": 19,
     "metadata": {},
     "output_type": "execute_result"
    }
   ],
   "source": [
    "df_has_next_evolution[df_has_next_evolution[\"next_evolution\"].apply(lambda x: get_item_count(x)) > 2][\"name\"]"
   ]
  },
  {
   "cell_type": "markdown",
   "id": "5f6c39be",
   "metadata": {},
   "source": [
    "There is only 1 pokemon which has more than 2 evolutions in this dataset. The name is 'Eevee'. Rest of all the pokemons have less than or equal to 2 pokemons"
   ]
  },
  {
   "cell_type": "markdown",
   "id": "cf50bdd4",
   "metadata": {},
   "source": [
    "#### Get all Pokemons whose spawn time is less than 300 seconds."
   ]
  },
  {
   "cell_type": "code",
   "execution_count": 20,
   "id": "64a8c0e4",
   "metadata": {},
   "outputs": [
    {
     "data": {
      "text/plain": [
       "6"
      ]
     },
     "execution_count": 20,
     "metadata": {},
     "output_type": "execute_result"
    }
   ],
   "source": [
    "# Checking if spawn_time has null values\n",
    "\n",
    "df[\"spawn_time\"].isna().sum()"
   ]
  },
  {
   "cell_type": "code",
   "execution_count": 21,
   "id": "1612a253",
   "metadata": {},
   "outputs": [],
   "source": [
    "# Define function to get time in seconds\n",
    "\n",
    "def get_time_in_seconds(s) -> int:\n",
    "    \"\"\"\n",
    "    Converts the time format from mm:ss to float(ss)\n",
    "    \"\"\"\n",
    "    try:\n",
    "        if isinstance(s, str):\n",
    "            mins = float(s[:2])\n",
    "            secs = float(s[-2:])\n",
    "\n",
    "            time = mins*60 + secs\n",
    "\n",
    "            return time\n",
    "        else:\n",
    "            return s\n",
    "    except Exception as e:\n",
    "        raise(e)"
   ]
  },
  {
   "cell_type": "code",
   "execution_count": 22,
   "id": "afc6474c",
   "metadata": {},
   "outputs": [],
   "source": [
    "# Create a copy of df for analysis\n",
    "df_spawn_time = df.copy()\n",
    "\n",
    "# Replace Nan with 0\n",
    "df_spawn_time[\"spawn_time\"].fillna(0, inplace = True)\n",
    "\n",
    "# Evaluating the problem statement\n",
    "pokemon_with_spawn_time_less_than_300sec = list(df_spawn_time[(df_spawn_time[\"spawn_time\"].\n",
    "                                                                    apply(lambda x: get_time_in_seconds(x)) < 300)\n",
    "                                                             &\n",
    "                                                             (df_spawn_time[\"spawn_time\"].\n",
    "                                                                    apply(lambda x: get_time_in_seconds(x)) > 0)][\"name\"])"
   ]
  },
  {
   "cell_type": "code",
   "execution_count": 23,
   "id": "963b3683",
   "metadata": {
    "scrolled": true
   },
   "outputs": [
    {
     "data": {
      "text/plain": [
       "['Squirtle',\n",
       " 'Blastoise',\n",
       " 'Metapod',\n",
       " 'Weedle',\n",
       " 'Kakuna',\n",
       " 'Beedrill',\n",
       " 'Pidgey',\n",
       " 'Pidgeotto',\n",
       " 'Pidgeot',\n",
       " 'Rattata',\n",
       " 'Raticate',\n",
       " 'Fearow',\n",
       " 'Arbok',\n",
       " 'Pikachu',\n",
       " 'Sandshrew',\n",
       " 'Nidoran ♀ (Female)',\n",
       " 'Nidoran ♂ (Male)',\n",
       " 'Clefairy',\n",
       " 'Clefable',\n",
       " 'Ninetales',\n",
       " 'Golbat',\n",
       " 'Oddish',\n",
       " 'Paras',\n",
       " 'Parasect',\n",
       " 'Venonat',\n",
       " 'Diglett',\n",
       " 'Meowth',\n",
       " 'Persian',\n",
       " 'Psyduck',\n",
       " 'Growlithe',\n",
       " 'Arcanine',\n",
       " 'Poliwag',\n",
       " 'Poliwrath',\n",
       " 'Abra',\n",
       " 'Machop',\n",
       " 'Machamp',\n",
       " 'Bellsprout',\n",
       " 'Tentacool',\n",
       " 'Graveler',\n",
       " 'Ponyta',\n",
       " 'Rapidash',\n",
       " 'Slowbro',\n",
       " 'Magnemite',\n",
       " \"Farfetch'd\",\n",
       " 'Dodrio',\n",
       " 'Muk',\n",
       " 'Cloyster',\n",
       " 'Gastly',\n",
       " 'Haunter',\n",
       " 'Gengar',\n",
       " 'Onix',\n",
       " 'Drowzee',\n",
       " 'Hypno',\n",
       " 'Krabby',\n",
       " 'Kingler',\n",
       " 'Voltorb',\n",
       " 'Electrode',\n",
       " 'Cubone',\n",
       " 'Marowak',\n",
       " 'Hitmonlee',\n",
       " 'Lickitung',\n",
       " 'Rhyhorn',\n",
       " 'Chansey',\n",
       " 'Kangaskhan',\n",
       " 'Horsea',\n",
       " 'Seadra',\n",
       " 'Goldeen',\n",
       " 'Mr. Mime',\n",
       " 'Electabuzz',\n",
       " 'Pinsir',\n",
       " 'Tauros',\n",
       " 'Gyarados',\n",
       " 'Jolteon',\n",
       " 'Porygon',\n",
       " 'Kabuto']"
      ]
     },
     "execution_count": 23,
     "metadata": {},
     "output_type": "execute_result"
    }
   ],
   "source": [
    "pokemon_with_spawn_time_less_than_300sec"
   ]
  },
  {
   "cell_type": "code",
   "execution_count": 24,
   "id": "b691f96a",
   "metadata": {},
   "outputs": [
    {
     "data": {
      "text/plain": [
       "75"
      ]
     },
     "execution_count": 24,
     "metadata": {},
     "output_type": "execute_result"
    }
   ],
   "source": [
    "len(pokemon_with_spawn_time_less_than_300sec)"
   ]
  },
  {
   "cell_type": "markdown",
   "id": "affcb2fb",
   "metadata": {},
   "source": [
    "There are 75 pokemons which have less than 300 sec spawn time excluding the ones which do not have any information regarding spawn time."
   ]
  },
  {
   "cell_type": "markdown",
   "id": "fb5dbd08",
   "metadata": {},
   "source": [
    "#### Get all Pokemon who have more than two types of capabilities"
   ]
  },
  {
   "cell_type": "code",
   "execution_count": 25,
   "id": "3d3cdbb0",
   "metadata": {},
   "outputs": [
    {
     "data": {
      "text/html": [
       "<div>\n",
       "<style scoped>\n",
       "    .dataframe tbody tr th:only-of-type {\n",
       "        vertical-align: middle;\n",
       "    }\n",
       "\n",
       "    .dataframe tbody tr th {\n",
       "        vertical-align: top;\n",
       "    }\n",
       "\n",
       "    .dataframe thead th {\n",
       "        text-align: right;\n",
       "    }\n",
       "</style>\n",
       "<table border=\"1\" class=\"dataframe\">\n",
       "  <thead>\n",
       "    <tr style=\"text-align: right;\">\n",
       "      <th></th>\n",
       "      <th>id</th>\n",
       "      <th>num</th>\n",
       "      <th>name</th>\n",
       "      <th>img</th>\n",
       "      <th>type</th>\n",
       "      <th>height</th>\n",
       "      <th>weight</th>\n",
       "      <th>candy</th>\n",
       "      <th>candy_count</th>\n",
       "      <th>egg</th>\n",
       "      <th>spawn_chance</th>\n",
       "      <th>avg_spawns</th>\n",
       "      <th>spawn_time</th>\n",
       "      <th>multipliers</th>\n",
       "      <th>weaknesses</th>\n",
       "      <th>next_evolution</th>\n",
       "      <th>prev_evolution</th>\n",
       "    </tr>\n",
       "  </thead>\n",
       "  <tbody>\n",
       "    <tr>\n",
       "      <th>0</th>\n",
       "      <td>1</td>\n",
       "      <td>1</td>\n",
       "      <td>Bulbasaur</td>\n",
       "      <td>http://www.serebii.net/pokemongo/pokemon/001.png</td>\n",
       "      <td>['Grass', 'Poison']</td>\n",
       "      <td>0.71</td>\n",
       "      <td>6.9</td>\n",
       "      <td>Bulbasaur Candy</td>\n",
       "      <td>25.0</td>\n",
       "      <td>2</td>\n",
       "      <td>0.690</td>\n",
       "      <td>69.0</td>\n",
       "      <td>20:00</td>\n",
       "      <td>[1.58]</td>\n",
       "      <td>['Fire', 'Ice', 'Flying', 'Psychic']</td>\n",
       "      <td>[{'num': '002', 'name': 'Ivysaur'}, {'num': '0...</td>\n",
       "      <td>NaN</td>\n",
       "    </tr>\n",
       "    <tr>\n",
       "      <th>1</th>\n",
       "      <td>2</td>\n",
       "      <td>2</td>\n",
       "      <td>Ivysaur</td>\n",
       "      <td>http://www.serebii.net/pokemongo/pokemon/002.png</td>\n",
       "      <td>['Grass', 'Poison']</td>\n",
       "      <td>0.99</td>\n",
       "      <td>13.0</td>\n",
       "      <td>Bulbasaur Candy</td>\n",
       "      <td>100.0</td>\n",
       "      <td>Not in Eggs</td>\n",
       "      <td>0.042</td>\n",
       "      <td>4.2</td>\n",
       "      <td>07:00</td>\n",
       "      <td>[1.2, 1.6]</td>\n",
       "      <td>['Fire', 'Ice', 'Flying', 'Psychic']</td>\n",
       "      <td>[{'num': '003', 'name': 'Venusaur'}]</td>\n",
       "      <td>[{'num': '001', 'name': 'Bulbasaur'}]</td>\n",
       "    </tr>\n",
       "  </tbody>\n",
       "</table>\n",
       "</div>"
      ],
      "text/plain": [
       "   id  num       name                                               img  \\\n",
       "0   1    1  Bulbasaur  http://www.serebii.net/pokemongo/pokemon/001.png   \n",
       "1   2    2    Ivysaur  http://www.serebii.net/pokemongo/pokemon/002.png   \n",
       "\n",
       "                  type  height  weight            candy  candy_count  \\\n",
       "0  ['Grass', 'Poison']    0.71     6.9  Bulbasaur Candy         25.0   \n",
       "1  ['Grass', 'Poison']    0.99    13.0  Bulbasaur Candy        100.0   \n",
       "\n",
       "           egg  spawn_chance  avg_spawns spawn_time multipliers  \\\n",
       "0            2         0.690        69.0      20:00      [1.58]   \n",
       "1  Not in Eggs         0.042         4.2      07:00  [1.2, 1.6]   \n",
       "\n",
       "                             weaknesses  \\\n",
       "0  ['Fire', 'Ice', 'Flying', 'Psychic']   \n",
       "1  ['Fire', 'Ice', 'Flying', 'Psychic']   \n",
       "\n",
       "                                      next_evolution  \\\n",
       "0  [{'num': '002', 'name': 'Ivysaur'}, {'num': '0...   \n",
       "1               [{'num': '003', 'name': 'Venusaur'}]   \n",
       "\n",
       "                          prev_evolution  \n",
       "0                                    NaN  \n",
       "1  [{'num': '001', 'name': 'Bulbasaur'}]  "
      ]
     },
     "execution_count": 25,
     "metadata": {},
     "output_type": "execute_result"
    }
   ],
   "source": [
    "df.head(2)"
   ]
  },
  {
   "cell_type": "code",
   "execution_count": 26,
   "id": "5179bb4f",
   "metadata": {},
   "outputs": [],
   "source": [
    "# Create a copy of df for analysis\n",
    "df_has_capabilities = df.copy()\n",
    "\n",
    "# Replace Nan with 0\n",
    "df_has_capabilities[\"type\"].fillna(0, inplace = True)\n",
    "\n",
    "# Evaluating the problem statement\n",
    "pokemon_has_more_than_2_capabilities = list(df_has_capabilities[df_has_capabilities[\"type\"].\n",
    "                                                                    apply(lambda x: get_item_count(x)) > 2][\"name\"])"
   ]
  },
  {
   "cell_type": "code",
   "execution_count": 27,
   "id": "d2026ae2",
   "metadata": {},
   "outputs": [
    {
     "data": {
      "text/plain": [
       "[]"
      ]
     },
     "execution_count": 27,
     "metadata": {},
     "output_type": "execute_result"
    }
   ],
   "source": [
    "pokemon_has_more_than_2_capabilities"
   ]
  },
  {
   "cell_type": "markdown",
   "id": "dbe7c493",
   "metadata": {},
   "source": [
    "There is no pokemon which has more than 2 capabilities."
   ]
  }
 ],
 "metadata": {
  "kernelspec": {
   "display_name": "Python 3 (ipykernel)",
   "language": "python",
   "name": "python3"
  },
  "language_info": {
   "codemirror_mode": {
    "name": "ipython",
    "version": 3
   },
   "file_extension": ".py",
   "mimetype": "text/x-python",
   "name": "python",
   "nbconvert_exporter": "python",
   "pygments_lexer": "ipython3",
   "version": "3.9.13"
  }
 },
 "nbformat": 4,
 "nbformat_minor": 5
}
