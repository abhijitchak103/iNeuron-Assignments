{
 "cells": [
  {
   "cell_type": "markdown",
   "id": "d4292863",
   "metadata": {},
   "source": [
    "Question 2: \n",
    "Consider a string to be valid if all characters of the string appear the same number of times. It is also valid if\n",
    "he can remove just one character at the index in the string, and the remaining characters will occur the same\n",
    "number of times. Given a string, determine if it is valid. If so, return YES , otherwise return NO .\n",
    "\n",
    "Note - You have to write at least 2 additional test cases in which your program will run successfully and provide\n",
    "an explanation for the same.\n",
    "- Example input 1 - s = “abc”. This is a valid string because frequencies are { “a”: 1, “b”: 1, “c”: 1 }\n",
    "- Example output 1- YES\n",
    "\n",
    "\n",
    "- Example input 2 - s “abccc”. This string is not valid as we can remove only 1 occurrence of “c”. That leaves\n",
    "character frequencies of { “a”: 1, “b”: 1 , “c”: 2 }\n",
    "- Example output 2 - NO"
   ]
  },
  {
   "cell_type": "code",
   "execution_count": 1,
   "id": "786536d2",
   "metadata": {},
   "outputs": [],
   "source": [
    "def get_character_count(user_string: str) -> dict:\n",
    "    \"\"\"\n",
    "    Returns a dictionary of word counts in input string.\n",
    "    \"\"\"\n",
    "    \n",
    "    # Unpacks the string into individual characters\n",
    "    characters = [*user_string]\n",
    "    unique_characters = list(set(characters))\n",
    "    \n",
    "    character_count = {}\n",
    "    for char in unique_characters:\n",
    "        character_count[char] = characters.count(char)\n",
    "        \n",
    "    return character_count"
   ]
  },
  {
   "cell_type": "code",
   "execution_count": 2,
   "id": "50bbce90",
   "metadata": {},
   "outputs": [],
   "source": [
    "def isValid(s: str) -> str:\n",
    "    \"\"\"\n",
    "    Returns whether or not the string is Valid.\n",
    "    \"\"\"\n",
    "    character_count = get_character_count(s)\n",
    "\n",
    "    count_frequencies = {}\n",
    "    for count in character_count.values():\n",
    "        if count not in count_frequencies:\n",
    "            count_frequencies[count] = 1\n",
    "        else:\n",
    "            count_frequencies[count] += 1\n",
    "            \n",
    "    if len(count_frequencies) == 1:\n",
    "        return \"YES\"\n",
    "    elif len(count_frequencies) == 2:\n",
    "        max_count = max(count_frequencies.keys())\n",
    "        min_count = min(count_frequencies.keys())\n",
    "        if count_frequencies[max_count] == 1 and max_count-min_count==1:\n",
    "            return \"YES\"\n",
    "        elif count_frequencies[min_count] == 1 and min_count==1:\n",
    "            return \"YES\"\n",
    "    \n",
    "    return \"NO\""
   ]
  },
  {
   "cell_type": "code",
   "execution_count": 3,
   "id": "118caf18",
   "metadata": {},
   "outputs": [
    {
     "data": {
      "text/plain": [
       "'YES'"
      ]
     },
     "execution_count": 3,
     "metadata": {},
     "output_type": "execute_result"
    }
   ],
   "source": [
    "isValid(\"abc\")"
   ]
  },
  {
   "cell_type": "code",
   "execution_count": 4,
   "id": "b532ea22",
   "metadata": {},
   "outputs": [
    {
     "data": {
      "text/plain": [
       "'YES'"
      ]
     },
     "execution_count": 4,
     "metadata": {},
     "output_type": "execute_result"
    }
   ],
   "source": [
    "isValid(\"abcc\")"
   ]
  },
  {
   "cell_type": "code",
   "execution_count": 5,
   "id": "1e571d62",
   "metadata": {},
   "outputs": [
    {
     "data": {
      "text/plain": [
       "'NO'"
      ]
     },
     "execution_count": 5,
     "metadata": {},
     "output_type": "execute_result"
    }
   ],
   "source": [
    "isValid(\"aaaabbcc\")"
   ]
  },
  {
   "cell_type": "markdown",
   "id": "abe7a65b",
   "metadata": {},
   "source": [
    "Here, to get uniformity, we have to get rid of either all \"a\"s or all (\"b\"s and \"c\"s). But only one is allowed. Hence, not Valid."
   ]
  },
  {
   "cell_type": "code",
   "execution_count": 6,
   "id": "a9dcf024",
   "metadata": {},
   "outputs": [
    {
     "data": {
      "text/plain": [
       "'YES'"
      ]
     },
     "execution_count": 6,
     "metadata": {},
     "output_type": "execute_result"
    }
   ],
   "source": [
    "isValid(\"abbccdd\")"
   ]
  },
  {
   "cell_type": "markdown",
   "id": "70c4874b",
   "metadata": {},
   "source": [
    "Here, by getting rid of \"a\", we can have uniformity in character distirbution. Hence, Valid."
   ]
  }
 ],
 "metadata": {
  "kernelspec": {
   "display_name": "Python 3 (ipykernel)",
   "language": "python",
   "name": "python3"
  },
  "language_info": {
   "codemirror_mode": {
    "name": "ipython",
    "version": 3
   },
   "file_extension": ".py",
   "mimetype": "text/x-python",
   "name": "python",
   "nbconvert_exporter": "python",
   "pygments_lexer": "ipython3",
   "version": "3.9.13"
  }
 },
 "nbformat": 4,
 "nbformat_minor": 5
}
