{
  "cells": [
    {
      "cell_type": "code",
      "execution_count": 43,
      "metadata": {
        "id": "Zw9ql7WHP-xf"
      },
      "outputs": [],
      "source": [
        "# Import pandas\n",
        "import pandas as pd"
      ]
    },
    {
      "cell_type": "code",
      "execution_count": 44,
      "metadata": {
        "id": "7AhaqTtcQHUy"
      },
      "outputs": [],
      "source": [
        "# Saving the url as src variable\n",
        "src = \"https://data.nasa.gov/resource/y77d-th95.json\""
      ]
    },
    {
      "cell_type": "code",
      "execution_count": 45,
      "metadata": {
        "id": "CnfhrMsMQctF"
      },
      "outputs": [],
      "source": [
        "# Reading as pandas DataFrame\n",
        "df = pd.read_json(src)"
      ]
    },
    {
      "cell_type": "code",
      "execution_count": 46,
      "metadata": {
        "colab": {
          "base_uri": "https://localhost:8080/"
        },
        "id": "M46T3LM6RPvn",
        "outputId": "502f1b3a-7671-4b83-f923-8388ebfa4cf3"
      },
      "outputs": [
        {
          "data": {
            "text/plain": [
              "Index(['name', 'id', 'nametype', 'recclass', 'mass', 'fall', 'year', 'reclat',\n",
              "       'reclong', 'geolocation', ':@computed_region_cbhk_fwbd',\n",
              "       ':@computed_region_nnqa_25f4'],\n",
              "      dtype='object')"
            ]
          },
          "execution_count": 46,
          "metadata": {},
          "output_type": "execute_result"
        }
      ],
      "source": [
        "# Checking the columns\n",
        "df.columns"
      ]
    },
    {
      "cell_type": "code",
      "execution_count": 47,
      "metadata": {
        "id": "_CRdknkCSboB"
      },
      "outputs": [],
      "source": [
        "# Creating maps for column names as required\n",
        "\n",
        "column_map = {\n",
        "    \"name\": \"Name_of_Earth_Meteorite\",\n",
        "    \"id\": \"ID_of_Earth_Meteorite\",\n",
        "    \"mass\": \"Mass_of_Earth_Meteorite\",\n",
        "    \"year\": \"Year_at_which_Earth_Meteorite_was_hit\",\n",
        "    \"geolocation\": \"Point_Coordinates\"\n",
        "}"
      ]
    },
    {
      "cell_type": "code",
      "execution_count": 48,
      "metadata": {
        "colab": {
          "base_uri": "https://localhost:8080/"
        },
        "id": "N0zpSi7bTAAT",
        "outputId": "f66d7b57-e0e0-4474-ab84-de16d6906d44"
      },
      "outputs": [],
      "source": [
        "# Renaming columns as required\n",
        "df.rename(columns = column_map, inplace=True)"
      ]
    },
    {
      "cell_type": "code",
      "execution_count": 49,
      "metadata": {
        "id": "dolb6Q21TEEt"
      },
      "outputs": [],
      "source": [
        "# Dropping unwanted columns and saving a new copy \n",
        "df_new = df.drop(columns = [\"fall\", \":@computed_region_cbhk_fwbd\", \":@computed_region_nnqa_25f4\"]).copy()"
      ]
    },
    {
      "cell_type": "code",
      "execution_count": 50,
      "metadata": {
        "id": "r9ecAmZPTcmp"
      },
      "outputs": [],
      "source": [
        "# Changing the Point Coordinates to only contain required data\n",
        "df_new[\"Point_Coordinates\"] = df_new[\"Point_Coordinates\"].astype(str).str[33:-1]"
      ]
    },
    {
      "cell_type": "code",
      "execution_count": 51,
      "metadata": {
        "id": "GC7viMqXY426"
      },
      "outputs": [],
      "source": [
        "# Converting to datetime object and using errors=\"coerce\" as some dates are out of range\n",
        "\n",
        "df_new[\"Year_at_which_Earth_Meteorite_was_hit\"] = pd.to_datetime(df_new[\"Year_at_which_Earth_Meteorite_was_hit\"], errors=\"coerce\")"
      ]
    },
    {
      "cell_type": "code",
      "execution_count": 52,
      "metadata": {
        "colab": {
          "base_uri": "https://localhost:8080/"
        },
        "id": "1eZ-ko8EZUCi",
        "outputId": "83815e68-8d82-459a-9894-d32eeec7d6cb"
      },
      "outputs": [
        {
          "name": "stdout",
          "output_type": "stream",
          "text": [
            "<class 'pandas.core.frame.DataFrame'>\n",
            "RangeIndex: 1000 entries, 0 to 999\n",
            "Data columns (total 9 columns):\n",
            " #   Column                                 Non-Null Count  Dtype         \n",
            "---  ------                                 --------------  -----         \n",
            " 0   Name_of_Earth_Meteorite                1000 non-null   object        \n",
            " 1   ID_of_Earth_Meteorite                  1000 non-null   int64         \n",
            " 2   nametype                               1000 non-null   object        \n",
            " 3   recclass                               1000 non-null   object        \n",
            " 4   Mass_of_Earth_Meteorite                972 non-null    float64       \n",
            " 5   Year_at_which_Earth_Meteorite_was_hit  982 non-null    datetime64[ns]\n",
            " 6   reclat                                 988 non-null    float64       \n",
            " 7   reclong                                988 non-null    float64       \n",
            " 8   Point_Coordinates                      1000 non-null   object        \n",
            "dtypes: datetime64[ns](1), float64(3), int64(1), object(4)\n",
            "memory usage: 70.4+ KB\n"
          ]
        }
      ],
      "source": [
        "# Checking the type of each column\n",
        "\n",
        "df_new.info()"
      ]
    },
    {
      "cell_type": "code",
      "execution_count": 53,
      "metadata": {
        "id": "O911hJZbaIsR"
      },
      "outputs": [],
      "source": [
        "# Saving the dataframe as a .csv\n",
        "\n",
        "df_new.to_csv(\"meteorites.csv\", index=False, header=True)"
      ]
    }
  ],
  "metadata": {
    "colab": {
      "authorship_tag": "ABX9TyMbNAGxaz1n0z7giKAtnFQn",
      "provenance": []
    },
    "kernelspec": {
      "display_name": "Python 3",
      "name": "python3"
    },
    "language_info": {
      "codemirror_mode": {
        "name": "ipython",
        "version": 3
      },
      "file_extension": ".py",
      "mimetype": "text/x-python",
      "name": "python",
      "nbconvert_exporter": "python",
      "pygments_lexer": "ipython3",
      "version": "3.9.13"
    }
  },
  "nbformat": 4,
  "nbformat_minor": 0
}
