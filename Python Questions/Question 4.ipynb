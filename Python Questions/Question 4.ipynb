{
  "nbformat": 4,
  "nbformat_minor": 0,
  "metadata": {
    "colab": {
      "provenance": [],
      "authorship_tag": "ABX9TyMbNAGxaz1n0z7giKAtnFQn"
    },
    "kernelspec": {
      "name": "python3",
      "display_name": "Python 3"
    },
    "language_info": {
      "name": "python"
    }
  },
  "cells": [
    {
      "cell_type": "code",
      "execution_count": 1,
      "metadata": {
        "id": "Zw9ql7WHP-xf"
      },
      "outputs": [],
      "source": [
        "import pandas as pd"
      ]
    },
    {
      "cell_type": "code",
      "source": [
        "src = \"https://data.nasa.gov/resource/y77d-th95.json\""
      ],
      "metadata": {
        "id": "7AhaqTtcQHUy"
      },
      "execution_count": 2,
      "outputs": []
    },
    {
      "cell_type": "code",
      "source": [
        "df = pd.read_json(src)"
      ],
      "metadata": {
        "id": "CnfhrMsMQctF"
      },
      "execution_count": 31,
      "outputs": []
    },
    {
      "cell_type": "code",
      "source": [
        "df.columns"
      ],
      "metadata": {
        "colab": {
          "base_uri": "https://localhost:8080/"
        },
        "id": "M46T3LM6RPvn",
        "outputId": "502f1b3a-7671-4b83-f923-8388ebfa4cf3"
      },
      "execution_count": 32,
      "outputs": [
        {
          "output_type": "execute_result",
          "data": {
            "text/plain": [
              "Index(['name', 'id', 'nametype', 'recclass', 'mass', 'fall', 'year', 'reclat',\n",
              "       'reclong', 'geolocation', ':@computed_region_cbhk_fwbd',\n",
              "       ':@computed_region_nnqa_25f4'],\n",
              "      dtype='object')"
            ]
          },
          "metadata": {},
          "execution_count": 32
        }
      ]
    },
    {
      "cell_type": "code",
      "source": [
        "column_map = {\n",
        "    \"name\": \"Name_of_Earth_Meteorite\",\n",
        "    \"id\": \"ID_of_Earth_Meteorite\",\n",
        "    \"mass\": \"Mass_of_Earth_Meteorite\",\n",
        "    \"year\": \"Year_at_which_Earth_Meteorite_was_hit\",\n",
        "    \"geolocation\": \"Point_Coordinates\"\n",
        "}"
      ],
      "metadata": {
        "id": "_CRdknkCSboB"
      },
      "execution_count": 33,
      "outputs": []
    },
    {
      "cell_type": "code",
      "source": [
        "df.rename(columns = column_map, inplace=True)\n",
        "# df.isnull().sum()"
      ],
      "metadata": {
        "colab": {
          "base_uri": "https://localhost:8080/"
        },
        "id": "N0zpSi7bTAAT",
        "outputId": "f66d7b57-e0e0-4474-ab84-de16d6906d44"
      },
      "execution_count": 34,
      "outputs": [
        {
          "output_type": "execute_result",
          "data": {
            "text/plain": [
              "Name_of_Earth_Meteorite                    0\n",
              "ID_of_Earth_Meteorite                      0\n",
              "nametype                                   0\n",
              "recclass                                   0\n",
              "Mass_of_Earth_Meteorite                   28\n",
              "fall                                       0\n",
              "Year_at_which_Earth_Meteorite_was_hit      1\n",
              "reclat                                    12\n",
              "reclong                                   12\n",
              "Point_Coordinates                         12\n",
              ":@computed_region_cbhk_fwbd              867\n",
              ":@computed_region_nnqa_25f4              866\n",
              "dtype: int64"
            ]
          },
          "metadata": {},
          "execution_count": 34
        }
      ]
    },
    {
      "cell_type": "code",
      "source": [
        "df_new = df.drop(columns = [\"fall\", \":@computed_region_cbhk_fwbd\", \":@computed_region_nnqa_25f4\"]).copy()"
      ],
      "metadata": {
        "id": "dolb6Q21TEEt"
      },
      "execution_count": 101,
      "outputs": []
    },
    {
      "cell_type": "code",
      "source": [
        "df_new[\"Point_Coordinates\"] = df_new[\"Point_Coordinates\"].astype(str).str[33:-1]"
      ],
      "metadata": {
        "id": "r9ecAmZPTcmp"
      },
      "execution_count": 102,
      "outputs": []
    },
    {
      "cell_type": "code",
      "source": [
        "# df_new[\"Year_at_which_Earth_Meteorite_was_hit\"].isnull().sum()"
      ],
      "metadata": {
        "id": "_wK10VOLWwYm"
      },
      "execution_count": 107,
      "outputs": []
    },
    {
      "cell_type": "code",
      "source": [
        "# df_new[\"Year_at_which_Earth_Meteorite_was_hit\"] = df_new[\"Year_at_which_Earth_Meteorite_was_hit\"].astype(str).str[:4]"
      ],
      "metadata": {
        "id": "723Y3onCTyMV"
      },
      "execution_count": 65,
      "outputs": []
    },
    {
      "cell_type": "code",
      "source": [
        "# df_new[\"Year_at_which_Earth_Meteorite_was_hit\"] = df_new[\"Year_at_which_Earth_Meteorite_was_hit\"].fillna(df[\"Year_at_which_Earth_Meteorite_was_hit\"].mode()[0])"
      ],
      "metadata": {
        "id": "zo7lhplIWgIn"
      },
      "execution_count": 66,
      "outputs": []
    },
    {
      "cell_type": "code",
      "source": [
        "# df_new[df_new[\"Year_at_which_Earth_Meteorite_was_hit\"].isnull()]"
      ],
      "metadata": {
        "id": "gAJfosO7S3M4"
      },
      "execution_count": 105,
      "outputs": []
    },
    {
      "cell_type": "code",
      "source": [
        "# np.datetime64(df_new[\"Year_at_which_Earth_Meteorite_was_hit\"][0], dtype = \"datetime64[ns]\")"
      ],
      "metadata": {
        "id": "0KwiZuQHYufF"
      },
      "execution_count": 106,
      "outputs": []
    },
    {
      "cell_type": "code",
      "source": [
        "# Converting to datetime object and using errors=\"coerce\" as some dates are out of range\n",
        "\n",
        "df_new[\"Year_at_which_Earth_Meteorite_was_hit\"] = pd.to_datetime(df_new[\"Year_at_which_Earth_Meteorite_was_hit\"], errors=\"coerce\")"
      ],
      "metadata": {
        "id": "GC7viMqXY426"
      },
      "execution_count": 109,
      "outputs": []
    },
    {
      "cell_type": "code",
      "source": [
        "# Checking the type of each column\n",
        "\n",
        "df_new.info()"
      ],
      "metadata": {
        "colab": {
          "base_uri": "https://localhost:8080/"
        },
        "id": "1eZ-ko8EZUCi",
        "outputId": "83815e68-8d82-459a-9894-d32eeec7d6cb"
      },
      "execution_count": 110,
      "outputs": [
        {
          "output_type": "stream",
          "name": "stdout",
          "text": [
            "<class 'pandas.core.frame.DataFrame'>\n",
            "RangeIndex: 1000 entries, 0 to 999\n",
            "Data columns (total 9 columns):\n",
            " #   Column                                 Non-Null Count  Dtype         \n",
            "---  ------                                 --------------  -----         \n",
            " 0   Name_of_Earth_Meteorite                1000 non-null   object        \n",
            " 1   ID_of_Earth_Meteorite                  1000 non-null   int64         \n",
            " 2   nametype                               1000 non-null   object        \n",
            " 3   recclass                               1000 non-null   object        \n",
            " 4   Mass_of_Earth_Meteorite                972 non-null    float64       \n",
            " 5   Year_at_which_Earth_Meteorite_was_hit  982 non-null    datetime64[ns]\n",
            " 6   reclat                                 988 non-null    float64       \n",
            " 7   reclong                                988 non-null    float64       \n",
            " 8   Point_Coordinates                      1000 non-null   object        \n",
            "dtypes: datetime64[ns](1), float64(3), int64(1), object(4)\n",
            "memory usage: 70.4+ KB\n"
          ]
        }
      ]
    },
    {
      "cell_type": "code",
      "source": [],
      "metadata": {
        "id": "O911hJZbaIsR"
      },
      "execution_count": 100,
      "outputs": []
    },
    {
      "cell_type": "code",
      "source": [],
      "metadata": {
        "id": "tTZfwOcSaSyc"
      },
      "execution_count": 90,
      "outputs": []
    },
    {
      "cell_type": "code",
      "source": [],
      "metadata": {
        "id": "469O3SBAagwE"
      },
      "execution_count": null,
      "outputs": []
    }
  ]
}
